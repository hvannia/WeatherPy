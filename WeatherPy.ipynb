{
 "cells": [
  {
   "cell_type": "markdown",
   "metadata": {},
   "source": [
    "# WeatherPy\n",
    "----\n",
    "\n",
    "### Analysis\n",
    "* As expected, the weather becomes significantly warmer as one approaches the equator (0 Deg. Latitude). More interestingly, however, is the fact that the southern hemisphere tends to be warmer this time of year than the northern hemisphere. This may be due to the tilt of the earth.\n",
    "* There is no strong relationship between latitude and cloudiness. However, it is interesting to see that a strong band of cities sits at 0, 80, and 100% cloudiness.\n",
    "* There is no strong relationship between latitude and wind speed. However, in northern hemispheres there is a flurry of cities with over 20 mph of wind.\n",
    "\n",
    "---\n",
    "\n",
    "#### Note\n",
    "* Instructions have been included for each segment. You do not have to follow them exactly, but they are included to help you think through the steps."
   ]
  },
  {
   "cell_type": "code",
   "execution_count": 1,
   "metadata": {
    "scrolled": true
   },
   "outputs": [],
   "source": [
    "# Dependencies and Setup\n",
    "import matplotlib.pyplot as plt\n",
    "import pandas as pd\n",
    "import numpy as np\n",
    "import requests\n",
    "import time\n",
    "from datetime import datetime\n",
    "# Import API key\n",
    "from api_keys import api_key\n",
    "\n",
    "# Incorporated citipy to determine city based on latitude and longitude\n",
    "from citipy import citipy\n",
    "\n",
    "# Output File (CSV)\n",
    "output_data_file = \"output_data/cities.csv\"\n",
    "\n",
    "# Range of latitudes and longitudes\n",
    "lat_range = (-90, 90)\n",
    "lng_range = (-180, 180)"
   ]
  },
  {
   "cell_type": "markdown",
   "metadata": {},
   "source": [
    "## Generate Cities List"
   ]
  },
  {
   "cell_type": "code",
   "execution_count": 2,
   "metadata": {},
   "outputs": [],
   "source": [
    "# List for holding lat_lngs and cities\n",
    "lat_lngs = []\n",
    "cities = []\n",
    "\n",
    "# Create a set of random lat and lng combinations\n",
    "#Samples are uniformly distributed over the half-open interval [low, high) (includes low, but excludes high)\n",
    "#size : Output shape: int or tuple of ints, optional\n",
    "# test size = 150 , actual size 1500, reduces to about 600 unqiue values\n",
    "lats = np.random.uniform(low=-90.000, high=90.000, size=15)\n",
    "lngs = np.random.uniform(low=-180.000, high=180.000, size=15)\n",
    "lat_lngs = zip(lats, lngs)\n",
    "\n",
    "# Identify nearest city for each lat, lng combination\n",
    "for lat_lng in lat_lngs:\n",
    "    city = citipy.nearest_city(lat_lng[0], lat_lng[1]).city_name\n",
    "    \n",
    "    # If the city is unique, then add it to a our cities list\n",
    "    if city not in cities:\n",
    "        cities.append(city)\n",
    "\n",
    "# Print the city count to confirm sufficient count\n",
    "#cities\n",
    "cityCount=len(cities)\n"
   ]
  },
  {
   "cell_type": "code",
   "execution_count": 3,
   "metadata": {},
   "outputs": [],
   "source": [
    "#Prepare containers (City\tCloudiness\tCountry\tDate\tHumidity\tLat\tLng\tMax Temp\tWind Speed)\n",
    "rcities=[]\n",
    "rlats=[]\n",
    "rlngs=[]\n",
    "clouds=[]\n",
    "countries=[]\n",
    "dates=[]\n",
    "humidities=[]\n",
    "mxTemps=[]\n",
    "winds=[]\n",
    "degs=[]"
   ]
  },
  {
   "cell_type": "code",
   "execution_count": 4,
   "metadata": {
    "scrolled": false
   },
   "outputs": [
    {
     "name": "stdout",
     "output_type": "stream",
     "text": [
      "http://api.openweathermap.org/data/2.5/weather?appid=8a5956e8e6e2385d1df09a3af9d9d728&units=Imperial&q=santo antonio do ica\n",
      "Processing Record 1 of 14 | santo antonio do ica\n",
      "http://api.openweathermap.org/data/2.5/weather?appid=8a5956e8e6e2385d1df09a3af9d9d728&units=Imperial&q=tabiauea\n",
      "Skipped tabiauea\n",
      "http://api.openweathermap.org/data/2.5/weather?appid=8a5956e8e6e2385d1df09a3af9d9d728&units=Imperial&q=bandarbeyla\n",
      "Processing Record 2 of 14 | bandarbeyla\n",
      "http://api.openweathermap.org/data/2.5/weather?appid=8a5956e8e6e2385d1df09a3af9d9d728&units=Imperial&q=busselton\n",
      "Processing Record 3 of 14 | busselton\n",
      "http://api.openweathermap.org/data/2.5/weather?appid=8a5956e8e6e2385d1df09a3af9d9d728&units=Imperial&q=kapaa\n",
      "Processing Record 4 of 14 | kapaa\n",
      "http://api.openweathermap.org/data/2.5/weather?appid=8a5956e8e6e2385d1df09a3af9d9d728&units=Imperial&q=pisco\n",
      "Processing Record 5 of 14 | pisco\n",
      "http://api.openweathermap.org/data/2.5/weather?appid=8a5956e8e6e2385d1df09a3af9d9d728&units=Imperial&q=iqaluit\n",
      "Processing Record 6 of 14 | iqaluit\n",
      "http://api.openweathermap.org/data/2.5/weather?appid=8a5956e8e6e2385d1df09a3af9d9d728&units=Imperial&q=qaanaaq\n",
      "Processing Record 7 of 14 | qaanaaq\n",
      "http://api.openweathermap.org/data/2.5/weather?appid=8a5956e8e6e2385d1df09a3af9d9d728&units=Imperial&q=krasnousolskiy\n",
      "Skipped krasnousolskiy\n",
      "http://api.openweathermap.org/data/2.5/weather?appid=8a5956e8e6e2385d1df09a3af9d9d728&units=Imperial&q=new norfolk\n",
      "Processing Record 8 of 14 | new norfolk\n",
      "http://api.openweathermap.org/data/2.5/weather?appid=8a5956e8e6e2385d1df09a3af9d9d728&units=Imperial&q=beringovskiy\n",
      "Processing Record 9 of 14 | beringovskiy\n",
      "http://api.openweathermap.org/data/2.5/weather?appid=8a5956e8e6e2385d1df09a3af9d9d728&units=Imperial&q=padang\n",
      "Processing Record 10 of 14 | padang\n",
      "http://api.openweathermap.org/data/2.5/weather?appid=8a5956e8e6e2385d1df09a3af9d9d728&units=Imperial&q=mataura\n",
      "Processing Record 11 of 14 | mataura\n",
      "http://api.openweathermap.org/data/2.5/weather?appid=8a5956e8e6e2385d1df09a3af9d9d728&units=Imperial&q=lagoa\n",
      "Processing Record 12 of 14 | lagoa\n"
     ]
    }
   ],
   "source": [
    "### Perform API Calls\n",
    "url = \"http://api.openweathermap.org/data/2.5/weather?\"\n",
    "units = \"Imperial\"  # not metric\n",
    "appid = api_key\n",
    "#query_url = f\"{url}appid={api_key}&units={units}&q=\"+city \n",
    "query_url = url+\"appid=\"+api_key+\"&units=\"+units+\"&q=\"\n",
    "\n",
    "cityCounter=1\n",
    "for city in cities:\n",
    "    try:\n",
    "        city_query_url = query_url+city \n",
    "        print(city_query_url)\n",
    "        response = requests.get(city_query_url).json()\n",
    "        rcities.append(response['name'])\n",
    "        rlats.append(response['coord']['lat'])\n",
    "        rlngs.append(response['coord']['lon'])\n",
    "        clouds.append(response['clouds']['all'])\n",
    "        countries.append(response['sys']['country'])\n",
    "        dates.append(response['dt'])\n",
    "        humidities.append(response['main']['humidity'])\n",
    "        mxTemps.append(response['main']['temp_max'])\n",
    "        winds.append(response['wind']['speed'])\n",
    "        degs.append(response['wind']['deg'])\n",
    "        print(\"Processing Record \"+str( cityCounter)+ \" of \" +str(cityCount)+\" | \" + city)\n",
    "        cityCounter= cityCounter+1\n",
    "    except:\n",
    "        print('Skipped '+city)\n",
    "#print(response)\n"
   ]
  },
  {
   "cell_type": "code",
   "execution_count": 5,
   "metadata": {},
   "outputs": [],
   "source": [
    "#print(len(rcities), len(countries), len(dates),len(rlats),len(rlngs),len(clouds),len(humidities),len(mxTemps),len(winds))"
   ]
  },
  {
   "cell_type": "code",
   "execution_count": 7,
   "metadata": {},
   "outputs": [
    {
     "data": {
      "text/html": [
       "<div>\n",
       "<style scoped>\n",
       "    .dataframe tbody tr th:only-of-type {\n",
       "        vertical-align: middle;\n",
       "    }\n",
       "\n",
       "    .dataframe tbody tr th {\n",
       "        vertical-align: top;\n",
       "    }\n",
       "\n",
       "    .dataframe thead th {\n",
       "        text-align: right;\n",
       "    }\n",
       "</style>\n",
       "<table border=\"1\" class=\"dataframe\">\n",
       "  <thead>\n",
       "    <tr style=\"text-align: right;\">\n",
       "      <th></th>\n",
       "      <th>City</th>\n",
       "      <th>Country</th>\n",
       "      <th>Date</th>\n",
       "      <th>Lat</th>\n",
       "      <th>Long</th>\n",
       "      <th>Cloudiness</th>\n",
       "      <th>Humidity</th>\n",
       "      <th>Max Temp.</th>\n",
       "      <th>Wind Speed</th>\n",
       "      <th>Wind Direction</th>\n",
       "    </tr>\n",
       "  </thead>\n",
       "  <tbody>\n",
       "    <tr>\n",
       "      <th>0</th>\n",
       "      <td>Santo Antonio do Ica</td>\n",
       "      <td>BR</td>\n",
       "      <td>1544645702</td>\n",
       "      <td>-3.10</td>\n",
       "      <td>-67.94</td>\n",
       "      <td>88</td>\n",
       "      <td>98</td>\n",
       "      <td>77.20</td>\n",
       "      <td>3.58</td>\n",
       "      <td>118.0020</td>\n",
       "    </tr>\n",
       "    <tr>\n",
       "      <th>1</th>\n",
       "      <td>Bandarbeyla</td>\n",
       "      <td>SO</td>\n",
       "      <td>1544645703</td>\n",
       "      <td>9.49</td>\n",
       "      <td>50.81</td>\n",
       "      <td>88</td>\n",
       "      <td>100</td>\n",
       "      <td>78.64</td>\n",
       "      <td>17.67</td>\n",
       "      <td>34.0019</td>\n",
       "    </tr>\n",
       "    <tr>\n",
       "      <th>2</th>\n",
       "      <td>Busselton</td>\n",
       "      <td>AU</td>\n",
       "      <td>1544645703</td>\n",
       "      <td>-33.64</td>\n",
       "      <td>115.35</td>\n",
       "      <td>0</td>\n",
       "      <td>100</td>\n",
       "      <td>62.26</td>\n",
       "      <td>18.57</td>\n",
       "      <td>96.5019</td>\n",
       "    </tr>\n",
       "    <tr>\n",
       "      <th>3</th>\n",
       "      <td>Kapaa</td>\n",
       "      <td>US</td>\n",
       "      <td>1544644560</td>\n",
       "      <td>22.08</td>\n",
       "      <td>-159.32</td>\n",
       "      <td>75</td>\n",
       "      <td>64</td>\n",
       "      <td>78.08</td>\n",
       "      <td>17.22</td>\n",
       "      <td>50.0000</td>\n",
       "    </tr>\n",
       "    <tr>\n",
       "      <th>4</th>\n",
       "      <td>Pisco</td>\n",
       "      <td>PE</td>\n",
       "      <td>1544644800</td>\n",
       "      <td>-13.71</td>\n",
       "      <td>-76.20</td>\n",
       "      <td>40</td>\n",
       "      <td>30</td>\n",
       "      <td>71.60</td>\n",
       "      <td>12.75</td>\n",
       "      <td>240.0000</td>\n",
       "    </tr>\n",
       "  </tbody>\n",
       "</table>\n",
       "</div>"
      ],
      "text/plain": [
       "                   City Country        Date    Lat    Long  Cloudiness  \\\n",
       "0  Santo Antonio do Ica      BR  1544645702  -3.10  -67.94          88   \n",
       "1           Bandarbeyla      SO  1544645703   9.49   50.81          88   \n",
       "2             Busselton      AU  1544645703 -33.64  115.35           0   \n",
       "3                 Kapaa      US  1544644560  22.08 -159.32          75   \n",
       "4                 Pisco      PE  1544644800 -13.71  -76.20          40   \n",
       "\n",
       "   Humidity  Max Temp.  Wind Speed  Wind Direction  \n",
       "0        98      77.20        3.58        118.0020  \n",
       "1       100      78.64       17.67         34.0019  \n",
       "2       100      62.26       18.57         96.5019  \n",
       "3        64      78.08       17.22         50.0000  \n",
       "4        30      71.60       12.75        240.0000  "
      ]
     },
     "execution_count": 7,
     "metadata": {},
     "output_type": "execute_result"
    }
   ],
   "source": [
    "### Convert Raw Data to DataFrame & save\n",
    "weather_dict = {\n",
    "    \"City\": rcities,\n",
    "    \"Country\":countries,\n",
    "    \"Date\":dates,\n",
    "    \"Lat\": rlats,\n",
    "    \"Long\": rlngs,\n",
    "    \"Cloudiness\": clouds,\n",
    "    \"Humidity\": humidities,\n",
    "    \"Max Temp.\":mxTemps,\n",
    "    \"Wind Speed\": winds,\n",
    "    \"Wind Direction\":degs\n",
    "}\n",
    "\n",
    "weather_data = pd.DataFrame(weather_dict)\n",
    "now = datetime.now()\n",
    "\n",
    "filen=\"weatherData\"+now.strftime(\"%Y%m%d\") +\".csv\"\n",
    "weather_data.to_csv(filen)\n",
    "\n",
    "weather_data.head()"
   ]
  },
  {
   "cell_type": "code",
   "execution_count": null,
   "metadata": {},
   "outputs": [],
   "source": []
  },
  {
   "cell_type": "code",
   "execution_count": null,
   "metadata": {},
   "outputs": [],
   "source": []
  },
  {
   "cell_type": "markdown",
   "metadata": {},
   "source": [
    "### Plotting the Data\n",
    "* Use proper labeling of the plots using plot titles (including date of analysis) and axes labels.\n",
    "* Save the plotted figures as .pngs."
   ]
  },
  {
   "cell_type": "markdown",
   "metadata": {},
   "source": [
    "#### Latitude vs. Temperature Plot"
   ]
  },
  {
   "cell_type": "code",
   "execution_count": 38,
   "metadata": {},
   "outputs": [
    {
     "data": {
      "image/png": "[encoded data removed]",
      "text/plain": [
       "<Figure size 1008x504 with 1 Axes>"
      ]
     },
     "metadata": {},
     "output_type": "display_data"
    }
   ],
   "source": [
    "import seaborn as sns\n",
    "sns.set()\n",
    "\n",
    "# x: lat , y: temp\n",
    "x= weather_data['Lat']\n",
    "y= weather_data['Max Temp.']\n",
    "s= y*10\n",
    "plt.figure(figsize=(14, 7), dpi= 72)\n",
    "\n",
    "plt.scatter(x,y, marker='o', facecolors='y' ,edgecolors='tab:orange', alpha=0.75)\n",
    "#gca=get current axis\n",
    "plt.gca().set(xlim=(min(weather_data['Lat']-5),max(weather_data['Lat']+10)), \n",
    "              ylim=(min(weather_data['Max Temp.'])-5,max(weather_data['Max Temp.'])+10), \n",
    "              xlabel='Latitude', \n",
    "              ylabel='Temperature (•F)')\n",
    "plt.xticks(fontsize=13)\n",
    "plt.yticks(fontsize=13)\n",
    "plt.title='Temperature (F) vs. Latitude '\n",
    "plt.legend(fontsize=16)\n",
    "plt.show()"
   ]
  },
  {
   "cell_type": "markdown",
   "metadata": {},
   "source": [
    "#### Latitude vs. Humidity Plot"
   ]
  },
  {
   "cell_type": "code",
   "execution_count": 45,
   "metadata": {},
   "outputs": [
    {
     "data": {
      "image/png": "[encoded data removed]",
      "text/plain": [
       "<Figure size 1008x504 with 1 Axes>"
      ]
     },
     "metadata": {},
     "output_type": "display_data"
    }
   ],
   "source": [
    "x= weather_data['Lat']\n",
    "y= weather_data['Humidity']\n",
    "s= y*10\n",
    "plt.figure(figsize=(14, 7), dpi= 72)\n",
    "\n",
    "plt.scatter(x,y, marker='o', facecolors='tab:gray' ,edgecolors='b', alpha=0.75)\n",
    "#gca=get current axis\n",
    "plt.gca().set(xlim=(min(weather_data['Lat']-10),max(weather_data['Lat']+10)), \n",
    "              ylim=(0,105), \n",
    "              xlabel='Latitude', \n",
    "              ylabel='Humidity (%)')\n",
    "plt.xticks(fontsize=13)\n",
    "plt.yticks(fontsize=13)\n",
    "plt.title='Humidity  vs. Latitude '\n",
    "plt.legend(fontsize=16)\n",
    "plt.show()"
   ]
  },
  {
   "cell_type": "markdown",
   "metadata": {},
   "source": [
    "#### Latitude vs. Cloudiness Plot"
   ]
  },
  {
   "cell_type": "code",
   "execution_count": 44,
   "metadata": {},
   "outputs": [
    {
     "data": {
      "image/png": "[encoded data removed]",
      "text/plain": [
       "<Figure size 1008x504 with 1 Axes>"
      ]
     },
     "metadata": {},
     "output_type": "display_data"
    }
   ],
   "source": [
    "x= weather_data['Lat']\n",
    "y= weather_data['Cloudiness']\n",
    "s= y*10\n",
    "plt.figure(figsize=(14, 7), dpi= 72)\n",
    "\n",
    "plt.scatter(x,y, marker='o', facecolors='b' ,edgecolors='tab:gray', alpha=0.75)\n",
    "#gca=get current axis\n",
    "plt.gca().set(xlim=(min(weather_data['Lat']-10),max(weather_data['Lat']+10)), \n",
    "              ylim=(-5,105), \n",
    "              xlabel='Latitude', \n",
    "              ylabel='Cloudiness (%)')\n",
    "plt.xticks(fontsize=13)\n",
    "plt.yticks(fontsize=13)\n",
    "plt.title='Cloudiness  vs. Latitude '\n",
    "plt.legend(fontsize=16)\n",
    "plt.show()"
   ]
  },
  {
   "cell_type": "markdown",
   "metadata": {},
   "source": [
    "#### Latitude vs. Wind Speed Plot"
   ]
  },
  {
   "cell_type": "code",
   "execution_count": 41,
   "metadata": {},
   "outputs": [
    {
     "name": "stdout",
     "output_type": "stream",
     "text": [
      "['\\\\nwarrow', '\\\\nearrow', '\\\\uparrow', '\\\\nearrow', '\\\\swarrow', '\\\\downarrow', '\\\\swarrow', '\\\\rightarrow', '\\\\searrow', '\\\\rightarrow', '\\\\uparrow', '\\\\downarrow']\n"
     ]
    }
   ],
   "source": [
    "#sns.unset()\n",
    "\n",
    "markers=[]\n",
    "for d in degs:\n",
    "    if int(d) > 337 or int(d) < 22.5:\n",
    "        markers.append('\\\\rightarrow')\n",
    "    elif int(d) >=22.5 and int(d) <65:\n",
    "        markers.append('\\\\nearrow')\n",
    "    elif int(d) >=65 and int(d) < 112.5:\n",
    "        markers.append('\\\\uparrow')\n",
    "    elif int(d) >=112.5 and int(d) < 157.5:\n",
    "        markers.append('\\\\nwarrow')\n",
    "    elif int(d) >=157.5 and int(d) < 202.5:\n",
    "        markers.append('\\\\leftarrow')\n",
    "    elif int(d) >=202.5 and int(d) < 247.5:\n",
    "        markers.append('\\\\swarrow')\n",
    "    elif int(d) >=247.5 and int (d) < 292.5:\n",
    "        markers.append('\\\\downarrow')\n",
    "    else: markers.append('\\\\searrow')\n",
    "print(markers)\n",
    "\n",
    "def getMarker(i):\n",
    "    return \"$\"+markers[i% len(markers)]+\"$\"\n",
    "\n"
   ]
  },
  {
   "cell_type": "code",
   "execution_count": 43,
   "metadata": {},
   "outputs": [
    {
     "name": "stderr",
     "output_type": "stream",
     "text": [
      "No handles with labels found to put in legend.\n"
     ]
    },
    {
     "data": {
      "image/png": "[encoded data removed]",
      "text/plain": [
       "<Figure size 1008x504 with 1 Axes>"
      ]
     },
     "metadata": {},
     "output_type": "display_data"
    }
   ],
   "source": [
    "x= weather_data['Lat']\n",
    "y= weather_data['Wind Speed']\n",
    "s= y*10\n",
    "plt.figure(figsize=(14, 7), dpi= 72)\n",
    "\n",
    "#plt.scatter(x,y, marker=markers, facecolors='tab:gray' ,edgecolors='b', alpha=0.75)\n",
    "for c, value in enumerate(markers):\n",
    "    plt.plot(x[c],y[c], marker=getMarker(c), markersize=14)\n",
    "#gca=get current axis\n",
    "plt.gca().set(xlim=(min(weather_data['Lat']-10),max(weather_data['Lat']+10)), \n",
    "              ylim=(-5,105), \n",
    "              xlabel='Latitude', \n",
    "              ylabel='Wind Speed and direction')\n",
    "plt.xticks(fontsize=13)\n",
    "plt.yticks(fontsize=13)\n",
    "plt.title='Wind Speed vs. Latitude '\n",
    "plt.legend(fontsize=16)\n",
    "plt.show()"
   ]
  },
  {
   "cell_type": "code",
   "execution_count": null,
   "metadata": {},
   "outputs": [],
   "source": []
  }
 ],
 "metadata": {
  "anaconda-cloud": {},
  "kernelspec": {
   "display_name": "Python 3",
   "language": "python",
   "name": "python3"
  },
  "language_info": {
   "codemirror_mode": {
    "name": "ipython",
    "version": 3
   },
   "file_extension": ".py",
   "mimetype": "text/x-python",
   "name": "python",
   "nbconvert_exporter": "python",
   "pygments_lexer": "ipython3",
   "version": "3.7.0"
  }
 },
 "nbformat": 4,
 "nbformat_minor": 2
}
