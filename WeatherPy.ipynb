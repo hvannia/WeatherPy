{
 "cells": [
  {
   "cell_type": "markdown",
   "metadata": {},
   "source": [
    "# WeatherPy\n",
    "----\n",
    "\n",
    "### Analysis\n",
    "* As expected, the weather becomes significantly warmer as one approaches the equator (0 Deg. Latitude). More interestingly, however, is the fact that the southern hemisphere tends to be warmer this time of year than the northern hemisphere. This may be due to the tilt of the earth.\n",
    "* There is no strong relationship between latitude and cloudiness. However, it is interesting to see that a strong band of cities sits at 0, 80, and 100% cloudiness.\n",
    "* There is no strong relationship between latitude and wind speed. However, in northern hemispheres there is a flurry of cities with over 20 mph of wind.\n",
    "\n",
    "---\n",
    "\n",
    "#### Note\n",
    "* Instructions have been included for each segment. You do not have to follow them exactly, but they are included to help you think through the steps."
   ]
  },
  {
   "cell_type": "code",
   "execution_count": 1,
   "metadata": {
    "scrolled": true
   },
   "outputs": [],
   "source": [
    "# Dependencies and Setup\n",
    "import matplotlib.pyplot as plt\n",
    "import pandas as pd\n",
    "import numpy as np\n",
    "import requests\n",
    "import time\n",
    "from datetime import datetime\n",
    "# Import API key\n",
    "from api_keys import api_key\n",
    "\n",
    "# Incorporated citipy to determine city based on latitude and longitude\n",
    "from citipy import citipy\n",
    "\n",
    "# Output File (CSV)\n",
    "output_data_file = \"output_data/cities.csv\"\n",
    "\n",
    "# Range of latitudes and longitudes\n",
    "lat_range = (-90, 90)\n",
    "lng_range = (-180, 180)"
   ]
  },
  {
   "cell_type": "markdown",
   "metadata": {},
   "source": [
    "## Generate Cities List"
   ]
  },
  {
   "cell_type": "code",
   "execution_count": 2,
   "metadata": {},
   "outputs": [],
   "source": [
    "# List for holding lat_lngs and cities\n",
    "lat_lngs = []\n",
    "cities = []\n",
    "\n",
    "# Create a set of random lat and lng combinations\n",
    "#Samples are uniformly distributed over the half-open interval [low, high) (includes low, but excludes high)\n",
    "#size : Output shape: int or tuple of ints, optional\n",
    "# test size = 150 , actual size 1500, reduces to about 600 unqiue values\n",
    "lats = np.random.uniform(low=-90.000, high=90.000, size=15)\n",
    "lngs = np.random.uniform(low=-180.000, high=180.000, size=15)\n",
    "lat_lngs = zip(lats, lngs)\n",
    "\n",
    "# Identify nearest city for each lat, lng combination\n",
    "for lat_lng in lat_lngs:\n",
    "    city = citipy.nearest_city(lat_lng[0], lat_lng[1]).city_name\n",
    "    \n",
    "    # If the city is unique, then add it to a our cities list\n",
    "    if city not in cities:\n",
    "        cities.append(city)\n",
    "\n",
    "# Print the city count to confirm sufficient count\n",
    "cityCount=len(cities)"
   ]
  },
  {
   "cell_type": "code",
   "execution_count": 3,
   "metadata": {},
   "outputs": [],
   "source": [
    "#Prepare containers (City\tCloudiness\tCountry\tDate\tHumidity\tLat\tLng\tMax Temp\tWind Speed)\n",
    "rcities=[]\n",
    "rlats=[]\n",
    "rlngs=[]\n",
    "clouds=[]\n",
    "countries=[]\n",
    "dates=[]\n",
    "humidities=[]\n",
    "mxTemps=[]\n",
    "winds=[]\n",
    "degs=[]"
   ]
  },
  {
   "cell_type": "code",
   "execution_count": null,
   "metadata": {
    "scrolled": false
   },
   "outputs": [
    {
     "name": "stdout",
     "output_type": "stream",
     "text": [
      "http://api.openweathermap.org/data/2.5/weather?appid=8a5956e8e6e2385d1df09a3af9d9d728&units=Imperial&q=atuona\n",
      "Skipped atuona\n",
      "http://api.openweathermap.org/data/2.5/weather?appid=8a5956e8e6e2385d1df09a3af9d9d728&units=Imperial&q=hovd\n",
      "Skipped hovd\n",
      "http://api.openweathermap.org/data/2.5/weather?appid=8a5956e8e6e2385d1df09a3af9d9d728&units=Imperial&q=puerto ayora\n",
      "Skipped puerto ayora\n",
      "http://api.openweathermap.org/data/2.5/weather?appid=8a5956e8e6e2385d1df09a3af9d9d728&units=Imperial&q=albany\n",
      "Skipped albany\n",
      "http://api.openweathermap.org/data/2.5/weather?appid=8a5956e8e6e2385d1df09a3af9d9d728&units=Imperial&q=kyra\n",
      "Skipped kyra\n",
      "http://api.openweathermap.org/data/2.5/weather?appid=8a5956e8e6e2385d1df09a3af9d9d728&units=Imperial&q=dustlik\n"
     ]
    }
   ],
   "source": [
    "### Perform API Calls\n",
    "url = \"http://api.openweathermap.org/data/2.5/weather?\"\n",
    "units = \"Imperial\"  # not metric\n",
    "appid = api_key\n",
    "query_url = url+\"appid=\"+api_key+\"&units=\"+units+\"&q=\"\n",
    "\n",
    "cityCounter=1\n",
    "for city in cities:\n",
    "    try:\n",
    "        city_query_url = query_url+city \n",
    "        print(city_query_url)\n",
    "        res = requests.get(city_query_url)\n",
    "        print=(response)\n",
    "        response=re.json()\n",
    "        rcities.append(response['name'])\n",
    "        rlats.append(response['coord']['lat'])\n",
    "        rlngs.append(response['coord']['lon'])\n",
    "        clouds.append(response['clouds']['all'])\n",
    "        countries.append(response['sys']['country'])\n",
    "        dates.append(response['dt'])\n",
    "        humidities.append(response['main']['humidity'])\n",
    "        mxTemps.append(response['main']['temp_max'])\n",
    "        winds.append(response['wind']['speed'])\n",
    "        degs.append(response['wind']['deg'])\n",
    "        print(\"Processing Record \"+str( cityCounter)+ \" of \" +str(cityCount)+\" | \" + city)\n",
    "        cityCounter= cityCounter+1\n",
    "    except:\n",
    "        print('Skipped '+city)\n",
    "#print(response)\n"
   ]
  },
  {
   "cell_type": "code",
   "execution_count": null,
   "metadata": {},
   "outputs": [],
   "source": [
    "print(len(rcities), len(countries), \n",
    "      len(dates),len(rlats),len(rlngs),len(clouds),len(humidities),len(mxTemps),len(winds), len(degs))"
   ]
  },
  {
   "cell_type": "code",
   "execution_count": null,
   "metadata": {},
   "outputs": [],
   "source": [
    "### Convert Raw Data to DataFrame & save\n",
    "weather_dict = {\n",
    "    \"City\": rcities,\n",
    "    \"Country\":countries,\n",
    "    \"Date\":dates,\n",
    "    \"Lat\": rlats,\n",
    "    \"Long\": rlngs,\n",
    "    \"Cloudiness\": clouds,\n",
    "    \"Humidity\": humidities,\n",
    "    \"Max Temp.\":mxTemps,\n",
    "    \"Wind Speed\": winds,\n",
    "    \"Wind Direction\":degs\n",
    "}\n",
    "\n",
    "weather_data = pd.DataFrame(weather_dict)\n",
    "now = datetime.now()\n",
    "\n",
    "filen=\"weatherData\"+now.strftime(\"%Y%m%d\") +\".csv\"\n",
    "weather_data.to_csv(filen)\n",
    "\n",
    "weather_data.head()"
   ]
  },
  {
   "cell_type": "markdown",
   "metadata": {},
   "source": [
    "### Plotting the Data\n",
    "* Use proper labeling of the plots using plot titles (including date of analysis) and axes labels.\n",
    "* Save the plotted figures as .pngs."
   ]
  },
  {
   "cell_type": "markdown",
   "metadata": {},
   "source": [
    "#### Latitude vs. Temperature Plot"
   ]
  },
  {
   "cell_type": "code",
   "execution_count": null,
   "metadata": {},
   "outputs": [],
   "source": [
    "import seaborn as sns\n",
    "sns.set()\n",
    "\n",
    "# x: lat , y: temp\n",
    "x= weather_data['Lat']\n",
    "y= weather_data['Max Temp.']\n",
    "s= y*10\n",
    "plt.figure(figsize=(14, 7), dpi= 72)\n",
    "\n",
    "plt.scatter(x,y, marker='o', facecolors='y' ,edgecolors='tab:orange', alpha=0.75)\n",
    "#gca=get current axis\n",
    "plt.gca().set(xlim=(min(weather_data['Lat']-10),max(weather_data['Lat']+10)), \n",
    "              ylim=(min(weather_data['Max Temp.'])-5,max(weather_data['Max Temp.'])+10), \n",
    "              xlabel='Latitude', \n",
    "              ylabel='Temperature (•F)')\n",
    "plt.xticks(fontsize=13)\n",
    "plt.yticks(fontsize=13)\n",
    "plt.title='Temperature (F) vs. Latitude '\n",
    "plt.legend(fontsize=16)\n",
    "plt.show()"
   ]
  },
  {
   "cell_type": "markdown",
   "metadata": {},
   "source": [
    "#### Latitude vs. Humidity Plot"
   ]
  },
  {
   "cell_type": "code",
   "execution_count": null,
   "metadata": {},
   "outputs": [],
   "source": [
    "x= weather_data['Lat']\n",
    "y= weather_data['Humidity']\n",
    "s= y*10\n",
    "plt.figure(figsize=(14, 7), dpi= 72)\n",
    "\n",
    "plt.scatter(x,y, marker='o', facecolors='tab:gray' ,edgecolors='b', alpha=0.75)\n",
    "#gca=get current axis\n",
    "plt.gca().set(xlim=(min(weather_data['Lat']-10),max(weather_data['Lat']+10)), \n",
    "              ylim=(0,105), \n",
    "              xlabel='Latitude', \n",
    "              ylabel='Humidity (%)')\n",
    "plt.xticks(fontsize=13)\n",
    "plt.yticks(fontsize=13)\n",
    "plt.title='Humidity  vs. Latitude '\n",
    "plt.legend(fontsize=16)\n",
    "plt.show()"
   ]
  },
  {
   "cell_type": "code",
   "execution_count": null,
   "metadata": {},
   "outputs": [],
   "source": [
    "x= weather_data['Lat']\n",
    "y= weather_data['Cloudiness']\n",
    "s= y*10\n",
    "plt.figure(figsize=(14, 7), dpi= 72)\n",
    "\n",
    "plt.scatter(x,y, marker='o', facecolors='b' ,edgecolors='tab:gray', alpha=0.75)\n",
    "#gca=get current axis\n",
    "plt.gca().set(xlim=(min(weather_data['Lat']-10),max(weather_data['Lat']+10)), \n",
    "              ylim=(-5,105), \n",
    "              xlabel='Latitude', \n",
    "              ylabel='Cloudiness (%)')\n",
    "plt.xticks(fontsize=13)\n",
    "plt.yticks(fontsize=13)\n",
    "plt.title='Cloudiness  vs. Latitude '\n",
    "plt.legend(fontsize=16)\n",
    "plt.show()"
   ]
  },
  {
   "cell_type": "markdown",
   "metadata": {},
   "source": [
    " #Latitude vs. Wind Speed Plot"
   ]
  },
  {
   "cell_type": "code",
   "execution_count": null,
   "metadata": {},
   "outputs": [],
   "source": [
    "#sns.unset()\n",
    "colors=[]\n",
    "markers=[]\n",
    "mvalues=[]\n",
    "for d in degs:\n",
    "    if int(d) > 337 or int(d) < 22.5:\n",
    "        markers.append('\\\\rightarrow')\n",
    "        colors.append('tab:blue')\n",
    "        mvalues[0]=d\n",
    "    elif int(d) >=22.5 and int(d) <65:\n",
    "        markers.append('\\\\nearrow')\n",
    "        colors.append('tab:orange')\n",
    "        mvalues[1]=d\n",
    "    elif int(d) >=65 and int(d) < 112.5:\n",
    "        markers.append('\\\\uparrow')\n",
    "        colors.append('tab:green')\n",
    "        mvalues[2]=d\n",
    "    elif int(d) >=112.5 and int(d) < 157.5:\n",
    "        markers.append('\\\\nwarrow')\n",
    "        colors.append('tab:red')\n",
    "        mvalues[3]=d\n",
    "    elif int(d) >=157.5 and int(d) < 202.5:\n",
    "        markers.append('\\\\leftarrow')\n",
    "        colors.append('tab:purple')\n",
    "        mvalues[4]=d\n",
    "    elif int(d) >=202.5 and int(d) < 247.5:\n",
    "        markers.append('\\\\swarrow')\n",
    "        colors.append('tab:brown')\n",
    "        mvalues[5]=d\n",
    "    elif int(d) >=247.5 and int (d) < 292.5:\n",
    "        markers.append('\\\\downarrow')\n",
    "        colors.append('tab:pink')\n",
    "        mvalues[6]=d\n",
    "    else: \n",
    "        markers.append('\\\\searrow')\n",
    "        colors.append('tab:olive')\n",
    "        mvalues[7]=d\n",
    "#print(markers)\n",
    "\n",
    "avmarkers_df=pd.DataFrame(markers,degs).reset_index()\n",
    "\n",
    "def getMarker(i):\n",
    "    return \"$\"+markers[i% len(markers)]+\"$\"\n",
    "\n",
    "def getColor(i):\n",
    "    return colors[i% len(colors)]\n",
    "\n"
   ]
  },
  {
   "cell_type": "code",
   "execution_count": null,
   "metadata": {},
   "outputs": [],
   "source": [
    "\n",
    "\n",
    "x= weather_data['Lat']\n",
    "y= weather_data['Wind Speed']\n",
    "s= y*10\n",
    "plt.figure(figsize=(14, 7), dpi= 72)\n",
    "\n",
    "#plt.scatter(x,y, marker=markers, facecolors='tab:gray' ,edgecolors='b', alpha=0.75)\n",
    "for c, value in enumerate(markers):\n",
    "    plt.plot(x[c],y[c], marker=getMarker(c), c=getColor(c), markersize=13)\n",
    "#gca=get current axis\n",
    "plt.gca().set(xlim=(min(weather_data['Lat']-10),max(weather_data['Lat']+10)), \n",
    "              ylim=(min(weather_data['Wind Speed']-5),max(weather_data['Wind Speed']+5)), \n",
    "              xlabel='Latitude', \n",
    "              ylabel='Wind Speed (mph)')\n",
    "plt.xticks(fontsize=13)\n",
    "plt.yticks(fontsize=13)\n",
    "plt.title='Wind Speed vs. Latitude '\n",
    "#import matplotlib as mpl\n",
    "#mpl.rcParams['legend.numpoints'] = 1\n",
    "\n",
    "plt.legend(mvalues,fontsize=16)\n",
    "plt.show()"
   ]
  },
  {
   "cell_type": "code",
   "execution_count": null,
   "metadata": {},
   "outputs": [],
   "source": []
  }
 ],
 "metadata": {
  "anaconda-cloud": {},
  "kernelspec": {
   "display_name": "Python 3",
   "language": "python",
   "name": "python3"
  },
  "language_info": {
   "codemirror_mode": {
    "name": "ipython",
    "version": 3
   },
   "file_extension": ".py",
   "mimetype": "text/x-python",
   "name": "python",
   "nbconvert_exporter": "python",
   "pygments_lexer": "ipython3",
   "version": "3.7.0"
  }
 },
 "nbformat": 4,
 "nbformat_minor": 2
}
