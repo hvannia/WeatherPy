{
 "cells": [
  {
   "cell_type": "markdown",
   "metadata": {},
   "source": [
    "# WeatherPy\n",
    "----\n",
    "\n",
    "### Analysis\n",
    "* As expected, the weather becomes significantly warmer as one approaches the equator (0 Deg. Latitude). More interestingly, however, is the fact that the southern hemisphere tends to be warmer this time of year than the northern hemisphere. This may be due to the tilt of the earth.\n",
    "* There is no strong relationship between latitude and cloudiness. However, it is interesting to see that a strong band of cities sits at 0, 80, and 100% cloudiness.\n",
    "* There is no strong relationship between latitude and wind speed. However, in northern hemispheres there is a flurry of cities with over 20 mph of wind.\n",
    "\n",
    "---\n",
    "\n",
    "#### Note\n",
    "* Instructions have been included for each segment. You do not have to follow them exactly, but they are included to help you think through the steps."
   ]
  },
  {
   "cell_type": "code",
   "execution_count": 1,
   "metadata": {
    "scrolled": true
   },
   "outputs": [],
   "source": [
    "# Dependencies and Setup\n",
    "import matplotlib.pyplot as plt\n",
    "import pandas as pd\n",
    "import numpy as np\n",
    "import requests\n",
    "import time\n",
    "from datetime import datetime\n",
    "# Import API key\n",
    "from api_keys import api_key\n",
    "\n",
    "# Incorporated citipy to determine city based on latitude and longitude\n",
    "from citipy import citipy\n",
    "\n",
    "# Output File (CSV)\n",
    "output_data_file = \"output_data/cities.csv\"\n",
    "\n",
    "# Range of latitudes and longitudes\n",
    "lat_range = (-90, 90)\n",
    "lng_range = (-180, 180)"
   ]
  },
  {
   "cell_type": "markdown",
   "metadata": {},
   "source": [
    "## Generate Cities List"
   ]
  },
  {
   "cell_type": "code",
   "execution_count": 2,
   "metadata": {},
   "outputs": [],
   "source": [
    "# List for holding lat_lngs and cities\n",
    "lat_lngs = []\n",
    "cities = []\n",
    "\n",
    "# Create a set of random lat and lng combinations\n",
    "#Samples are uniformly distributed over the half-open interval [low, high) (includes low, but excludes high)\n",
    "#size : Output shape: int or tuple of ints, optional\n",
    "# test size = 15 AND 150 , actual size 1500, reduces to about 600 unqiue values\n",
    "lats = np.random.uniform(low=-90.000, high=90.000, size=1500)\n",
    "lngs = np.random.uniform(low=-180.000, high=180.000, size=1500)\n",
    "lat_lngs = zip(lats, lngs)\n",
    "\n",
    "# Identify nearest city for each lat, lng combination\n",
    "for lat_lng in lat_lngs:\n",
    "    city = citipy.nearest_city(lat_lng[0], lat_lng[1]).city_name\n",
    "    \n",
    "    # If the city is unique, then add it to a our cities list\n",
    "    if city not in cities:\n",
    "        cities.append(city)\n",
    "\n",
    "# Print the city count to confirm sufficient count\n",
    "cityCount=len(cities)"
   ]
  },
  {
   "cell_type": "code",
   "execution_count": 3,
   "metadata": {},
   "outputs": [],
   "source": [
    "#Prepare containers (City\tCloudiness\tCountry\tDate\tHumidity\tLat\tLng\tMax Temp\tWind Speed)\n",
    "rcities=[]\n",
    "rlats=[]\n",
    "rlngs=[]\n",
    "clouds=[]\n",
    "countries=[]\n",
    "dates=[]\n",
    "humidities=[]\n",
    "mxTemps=[]\n",
    "winds=[]\n",
    "degs=[]\n",
    "# Additional fields \n",
    "wdds=[]\n",
    "markers=[]\n",
    "colors=[]\n",
    "sortPrio=[]"
   ]
  },
  {
   "cell_type": "code",
   "execution_count": null,
   "metadata": {
    "scrolled": false
   },
   "outputs": [
    {
     "name": "stdout",
     "output_type": "stream",
     "text": [
      "Processing Record 1 of 629 | miri\n",
      "Processing Record 2 of 629 | shimoda\n",
      "Processing Record 3 of 629 | bluff\n",
      "Skipped meyungs\n",
      "Processing Record 4 of 629 | ushuaia\n",
      "Skipped samusu\n",
      "Skipped karaul\n",
      "Processing Record 5 of 629 | viedma\n",
      "Processing Record 6 of 629 | charagua\n",
      "Processing Record 7 of 629 | samarai\n",
      "Processing Record 8 of 629 | kirakira\n",
      "Processing Record 9 of 629 | te anau\n",
      "Processing Record 10 of 629 | havre\n",
      "Processing Record 11 of 629 | codrington\n",
      "Skipped sentyabrskiy\n",
      "Processing Record 12 of 629 | bredasdorp\n",
      "Processing Record 13 of 629 | avarua\n",
      "Processing Record 14 of 629 | punta arenas\n",
      "Processing Record 15 of 629 | upernavik\n",
      "Skipped attawapiskat\n",
      "Processing Record 16 of 629 | arman\n",
      "Skipped vaitupu\n",
      "Skipped biggar\n",
      "Processing Record 17 of 629 | kapaa\n",
      "Processing Record 18 of 629 | yerbogachen\n",
      "Skipped illoqqortoormiut\n",
      "Processing Record 19 of 629 | mataura\n",
      "Processing Record 20 of 629 | verkh-chebula\n",
      "Processing Record 21 of 629 | vaini\n",
      "Skipped chagda\n",
      "Skipped marcona\n",
      "Processing Record 22 of 629 | hilo\n",
      "Processing Record 23 of 629 | provideniya\n",
      "Processing Record 24 of 629 | rikitea\n",
      "Processing Record 25 of 629 | cape town\n",
      "Processing Record 26 of 629 | issenye\n",
      "Processing Record 27 of 629 | aripuana\n",
      "Processing Record 28 of 629 | zaltan\n",
      "Processing Record 29 of 629 | jutai\n",
      "Skipped felidhoo\n",
      "Processing Record 30 of 629 | saint-philippe\n",
      "Processing Record 31 of 629 | saskylakh\n",
      "Processing Record 32 of 629 | shiraz\n",
      "Processing Record 33 of 629 | banyumas\n",
      "Processing Record 34 of 629 | tokur\n",
      "Skipped privokzalnyy\n",
      "Processing Record 35 of 629 | sars\n",
      "Processing Record 36 of 629 | zalantun\n",
      "Skipped taolanaro\n",
      "Processing Record 37 of 629 | hobart\n",
      "Skipped kano\n",
      "Processing Record 38 of 629 | puerto ayora\n",
      "Processing Record 39 of 629 | salalah\n",
      "Processing Record 40 of 629 | ilula\n",
      "Processing Record 41 of 629 | alofi\n",
      "Processing Record 42 of 629 | grindavik\n",
      "Skipped karamay\n",
      "Skipped umzimvubu\n",
      "Processing Record 43 of 629 | narsaq\n",
      "Skipped phan rang\n",
      "Processing Record 44 of 629 | rio grande\n",
      "Processing Record 45 of 629 | jinchang\n",
      "Processing Record 46 of 629 | champerico\n",
      "Processing Record 47 of 629 | morondava\n",
      "Processing Record 48 of 629 | fortuna\n",
      "Processing Record 49 of 629 | chumikan\n",
      "Processing Record 50 of 629 | new norfolk\n",
      "Processing Record 51 of 629 | khutar\n",
      "Skipped belushya guba\n",
      "Processing Record 52 of 629 | brenham\n",
      "Processing Record 53 of 629 | ponta do sol\n",
      "Processing Record 54 of 629 | henties bay\n"
     ]
    }
   ],
   "source": [
    "### Perform API Calls\n",
    "url = \"http://api.openweathermap.org/data/2.5/weather?\"\n",
    "units = \"Imperial\"  # not metric\n",
    "appid = api_key\n",
    "query_url = url+\"appid=\"+api_key+\"&units=\"+units+\"&q=\"\n",
    "cityCounter=1\n",
    "for city in cities:\n",
    "    try:\n",
    "        city_query_url = query_url+city \n",
    "        response = requests.get(city_query_url).json()\n",
    "        rcities.append(response['name'])\n",
    "        rlats.append(response['coord']['lat'])\n",
    "        rlngs.append(response['coord']['lon'])\n",
    "        clouds.append(response['clouds']['all'])\n",
    "        countries.append(response['sys']['country'])\n",
    "        dates.append(response['dt'])\n",
    "        humidities.append(response['main']['humidity'])\n",
    "        mxTemps.append(response['main']['temp_max'])\n",
    "        winds.append(response['wind']['speed'])\n",
    "        degs.append(response['wind']['deg'])       \n",
    "      \n",
    "        print(\"Processing Record \"+str( cityCounter)+ \" of \" +str(cityCount)+\" | \" + city)\n",
    "        cityCounter= cityCounter+1\n",
    "    except:\n",
    "        print('Skipped '+city)\n"
   ]
  },
  {
   "cell_type": "code",
   "execution_count": null,
   "metadata": {},
   "outputs": [],
   "source": [
    "# Some data does not contain wind direction, so this field is padded with ''\n",
    "\n",
    "times=len(winds)-len(degs)\n",
    "x=[1]*times\n",
    "for a in x: degs.append('-1')\n"
   ]
  },
  {
   "cell_type": "code",
   "execution_count": null,
   "metadata": {},
   "outputs": [],
   "source": [
    "### Convert Raw Data to DataFrame & save\n",
    "weather_dict = {\n",
    "    \"City\": rcities,\n",
    "    \"Country\":countries,\n",
    "    \"Date\":dates,\n",
    "    \"Lat\": rlats,\n",
    "    \"Long\": rlngs,\n",
    "    \"Cloudiness\": clouds,\n",
    "    \"Humidity\": humidities,\n",
    "    \"Max Temp.\":mxTemps,\n",
    "    \"Wind Speed\": winds,\n",
    "    \"Wind Direction\":degs\n",
    "}\n",
    "\n",
    "weather_data = pd.DataFrame(weather_dict)\n",
    "now = datetime.now()\n",
    "\n",
    "filen=\"weatherData\"+now.strftime(\"%Y%m%d\") +\".csv\"\n",
    "weather_data.to_csv(filen)\n",
    "\n",
    "weather_data.head()"
   ]
  },
  {
   "cell_type": "markdown",
   "metadata": {},
   "source": [
    "### Plotting the Data\n",
    "* Use proper labeling of the plots using plot titles (including date of analysis) and axes labels.\n",
    "* Save the plotted figures as .pngs."
   ]
  },
  {
   "cell_type": "markdown",
   "metadata": {},
   "source": [
    "#### Latitude vs. Temperature Plot"
   ]
  },
  {
   "cell_type": "code",
   "execution_count": null,
   "metadata": {},
   "outputs": [],
   "source": [
    "import seaborn as sns\n",
    "sns.set()\n",
    "\n",
    "# x: lat , y: temp\n",
    "x= weather_data['Lat']\n",
    "y= weather_data['Max Temp.']\n",
    "s= y*2\n",
    "plt.figure(figsize=(14, 7), dpi= 72)\n",
    "\n",
    "plt.scatter(x,y, marker='o', facecolors='y' ,edgecolors='tab:orange', alpha=0.75)\n",
    "#gca=get current axis\n",
    "plt.gca().set(xlim=(-95,95), \n",
    "              ylim=(min(weather_data['Max Temp.'])-5,max(weather_data['Max Temp.'])+5), \n",
    "              xlabel='Latitude', \n",
    "              ylabel='Temperature (•F)')\n",
    "plt.xticks(fontsize=13)\n",
    "plt.yticks(fontsize=13)\n",
    "plt.title('Temperature (F) vs. Latitude 12/13/2018')\n",
    "plt.legend(fontsize=15)\n",
    "plt.tight_layout()\n",
    "plt.savefig(\"Images/CorrelationLatVsTemp.png\")\n",
    "plt.show()"
   ]
  },
  {
   "cell_type": "markdown",
   "metadata": {},
   "source": [
    "#### Latitude vs. Humidity Plot"
   ]
  },
  {
   "cell_type": "code",
   "execution_count": null,
   "metadata": {},
   "outputs": [],
   "source": [
    "x= weather_data['Lat']\n",
    "y= weather_data['Humidity']\n",
    "s= y*10\n",
    "plt.figure(figsize=(14, 7), dpi= 72)\n",
    "\n",
    "plt.scatter(x,y, marker='o', facecolors='tab:gray' ,edgecolors='b', alpha=0.75)\n",
    "#gca=get current axis\n",
    "plt.gca().set(xlim=(-95,95), \n",
    "              ylim=(0,105), \n",
    "              xlabel='Latitude', \n",
    "              ylabel='Humidity (%)')\n",
    "plt.xticks(fontsize=13)\n",
    "plt.yticks(fontsize=13)\n",
    "plt.title('Humidity  vs. Latitude 12/13/2018') \n",
    "plt.legend(fontsize=16)\n",
    "plt.tight_layout()\n",
    "plt.savefig(\"Images/CorrelationLatVsHumidity.png\")\n",
    "plt.show()"
   ]
  },
  {
   "cell_type": "markdown",
   "metadata": {},
   "source": [
    " Latitude vs. Cloudiness Plot"
   ]
  },
  {
   "cell_type": "code",
   "execution_count": null,
   "metadata": {},
   "outputs": [],
   "source": [
    "x= weather_data['Lat']\n",
    "y= weather_data['Cloudiness']\n",
    "s= y*10\n",
    "plt.figure(figsize=(14, 7), dpi= 72)\n",
    "\n",
    "plt.scatter(x,y, marker='o', facecolors='b' ,edgecolors='tab:gray', alpha=0.75)\n",
    "#gca=get current axis\n",
    "plt.gca().set(xlim=(-95,95), \n",
    "              ylim=(-5,105), \n",
    "              xlabel='Latitude', \n",
    "              ylabel='Cloudiness (%)')\n",
    "plt.xticks(fontsize=13)\n",
    "plt.yticks(fontsize=13)\n",
    "plt.title('Cloudiness  vs. Latitude 12/13/2018') \n",
    "plt.tight_layout()\n",
    "plt.savefig(\"Images/CorrelationLatVsCloud.png\")\n",
    "plt.legend(fontsize=16)\n",
    "plt.show()"
   ]
  },
  {
   "cell_type": "markdown",
   "metadata": {},
   "source": [
    " Latitude vs. Wind Speed Plot"
   ]
  },
  {
   "cell_type": "code",
   "execution_count": null,
   "metadata": {},
   "outputs": [],
   "source": [
    "x= weather_data['Lat']\n",
    "y= weather_data['Wind Speed']\n",
    "s= y*10\n",
    "plt.figure(figsize=(14, 7), dpi= 72)\n",
    "\n",
    "plt.scatter(x,y, facecolors=colors ,edgecolors='tab:gray', alpha=0.75)\n",
    "#gca=get current axis\n",
    "plt.gca().set(xlim=(-95,95), \n",
    "              ylim=(min(weather_data['Wind Speed'])-10,max(weather_data['Wind Speed'])+10), \n",
    "              xlabel='Latitude', \n",
    "              ylabel='Wind Speed(mph)')\n",
    "plt.xticks(fontsize=13)\n",
    "plt.yticks(fontsize=13)\n",
    "plt.title('Wind Speed  vs. Latitude 12/13/2018')\n",
    "plt.legend(fontsize=16)\n",
    "plt.tight_layout()\n",
    "plt.savefig(\"Images/CorrelationLatVsWindSpeed.png\")\n",
    "plt.show()"
   ]
  },
  {
   "cell_type": "code",
   "execution_count": null,
   "metadata": {},
   "outputs": [],
   "source": [
    "# Additional computations to plot wind speed vs/latitude using markers to indicate wind direction.\n",
    "# Each cardinal direction uses a single marker and color. \n",
    "#wdds=[]\n",
    "def getMarker(i):\n",
    "    return \"$\"+markers[i% len(markers)]+\"$\"\n",
    "\n",
    "def getColor(i):\n",
    "    return colors[i% len(colors)]\n",
    "  \n",
    "for de in degs:\n",
    "    d=int(de)\n",
    "    if  (d > 337 or d < 22.5) and d>0:\n",
    "        markers.append('\\\\rightarrow')\n",
    "        colors.append('tab:blue')\n",
    "      #  wdds.append('E')\n",
    "    elif d >=22.5 and d <65:\n",
    "        markers.append('\\\\nearrow')\n",
    "        colors.append('tab:orange')\n",
    "     #   wdds.append('NE')  \n",
    "    elif d >=65 and d< 112.5:\n",
    "        markers.append('\\\\uparrow')\n",
    "        colors.append('tab:green')\n",
    "     #   wdds.append('N')\n",
    "    elif d >=112.5 and d < 157.5:\n",
    "        markers.append('\\\\nwarrow')\n",
    "        colors.append('tab:red')\n",
    "      #  wdds.append('NW')\n",
    "    elif d >=157.5 and d < 202.5:\n",
    "        markers.append('\\\\leftarrow')\n",
    "        colors.append('tab:purple')\n",
    "     #   wdds.append('W')\n",
    "    elif d >=202.5 and d < 247.5:\n",
    "        markers.append('\\\\swarrow')\n",
    "        colors.append('tab:brown')\n",
    "     #   wdds.append('SW')\n",
    "    elif d >=247.5 and d < 292.5:\n",
    "        markers.append('\\\\downarrow')\n",
    "        colors.append('tab:pink')\n",
    "      #  wdds.append('S')\n",
    "    elif d >=292.5 and d < 337:\n",
    "        markers.append('\\\\searrow')\n",
    "        colors.append('tab:olive')\n",
    "      #  wdds.append('SE')\n",
    "   # else:\n",
    "     #   wdds.append('-')\n",
    "\n"
   ]
  },
  {
   "cell_type": "code",
   "execution_count": null,
   "metadata": {},
   "outputs": [],
   "source": [
    "#weather_data['Wind Cardinality']=wdds\n",
    "#weather_data.head(12)"
   ]
  },
  {
   "cell_type": "code",
   "execution_count": null,
   "metadata": {
    "scrolled": true
   },
   "outputs": [],
   "source": [
    "import matplotlib.lines as mlines  #for legend Custom handler\n",
    "\n",
    "x= weather_data['Lat']\n",
    "y= weather_data['Wind Speed']\n",
    "s= y*10\n",
    "plt.figure(figsize=(19, 11), dpi= 72)\n",
    "\n",
    "for c, value in enumerate(degs):\n",
    "    plt.plot(x[c],y[c], marker=getMarker(c), c=getColor(c), markersize=13)\n",
    "\t\n",
    "#gca=get current axis\n",
    "plt.gca().set(xlim=(-95,95), \n",
    "              ylim=(min(weather_data['Wind Speed']-2.5),max(weather_data['Wind Speed']+2.5)), \n",
    "              xlabel='Latitude', \n",
    "              ylabel='Wind Speed (mph)')\n",
    "\t\t\t  \n",
    "plt.xticks(fontsize=13)\n",
    "plt.yticks(fontsize=13)\n",
    "plt.title('Wind Speed vs. Latitude')\n",
    "\n",
    "east= mlines.Line2D([], [], color='tab:blue', marker=r'$\\rightarrow$', markersize=13, label='EAST', fillstyle='none', linewidth=0 )\n",
    "neast= mlines.Line2D([], [], color='tab:orange', marker=r'$\\nearrow$', markersize=13, label='NORTH EAST', fillstyle='none', linewidth=0 )\n",
    "north= mlines.Line2D([], [], color='tab:green', marker=r'$\\uparrow$', markersize=13, label='NORTH', fillstyle='none', linewidth=0 )\n",
    "nwest= mlines.Line2D([], [], color='tab:red', marker=r'$\\nwarrow$', markersize=13, label='NORTH WEST', fillstyle='none', linewidth=0 )\n",
    "west= mlines.Line2D([], [], color='tab:purple', marker=r'$\\leftarrow$', markersize=13, label='WEST', fillstyle='none', linewidth=0 )\n",
    "swest= mlines.Line2D([], [], color='tab:brown', marker=r'$\\swarrow$', markersize=13, label='SOUTH WEST', fillstyle='none', linewidth=0 )\n",
    "south= mlines.Line2D([], [], color='tab:pink', marker=r'$\\downarrow$', markersize=13, label='SOUTH', fillstyle='none', linewidth=0 )\n",
    "seast= mlines.Line2D([], [], color='tab:olive', marker=r'$\\searrow$', markersize=13, label='SOUTH EAST', fillstyle='none', linewidth=0 )\n",
    "\n",
    "plt.legend(handles=[east,neast,north,nwest,west,swest,south,seast])\n",
    "plt.title('Wind Speed & Direction vs. Latitude 12/13/2018')\n",
    "plt.tight_layout()\n",
    "plt.savefig(\"Images/CorrelationLatVsWindSpeedwDir.png\")\n",
    "plt.show()\n"
   ]
  },
  {
   "cell_type": "markdown",
   "metadata": {},
   "source": [
    "### OBSERVABLE TRENDS:\n",
    "\n"
   ]
  },
  {
   "cell_type": "markdown",
   "metadata": {},
   "source": [
    "Note: There will always be high data values above -40deg  latitude,  because most of the population is above this line.\n",
    "\n",
    "1 - There is a clear correlation between latitude and temperature,\n",
    "High latitud areas are the only areas with temperatures under 0deg, as the latitude decreases so does the temperature increase. The highest temperatures are around latitude 0 +- 25 degrees.\n",
    "So the plot confirms that the highest temperatures are around the equator where latitude is 0.\n",
    "\n",
    "2- Humidity is not related to Latitude,  high Humidity values range from -50 to 75 deg. Latitude.\n",
    "\n",
    "3- I included a wind speed plot that also indicates wind direction, there is no relation between wind speed and Latitude, or wind direction and latitude."
   ]
  }
 ],
 "metadata": {
  "anaconda-cloud": {},
  "kernelspec": {
   "display_name": "Python 3",
   "language": "python",
   "name": "python3"
  },
  "language_info": {
   "codemirror_mode": {
    "name": "ipython",
    "version": 3
   },
   "file_extension": ".py",
   "mimetype": "text/x-python",
   "name": "python",
   "nbconvert_exporter": "python",
   "pygments_lexer": "ipython3",
   "version": "3.7.0"
  }
 },
 "nbformat": 4,
 "nbformat_minor": 2
}
