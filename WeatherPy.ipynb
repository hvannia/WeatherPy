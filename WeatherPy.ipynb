{
 "cells": [
  {
   "cell_type": "markdown",
   "metadata": {},
   "source": [
    "# WeatherPy\n",
    "----\n",
    "\n",
    "### Analysis\n",
    "* As expected, the weather becomes significantly warmer as one approaches the equator (0 Deg. Latitude). More interestingly, however, is the fact that the southern hemisphere tends to be warmer this time of year than the northern hemisphere. This may be due to the tilt of the earth.\n",
    "* There is no strong relationship between latitude and cloudiness. However, it is interesting to see that a strong band of cities sits at 0, 80, and 100% cloudiness.\n",
    "* There is no strong relationship between latitude and wind speed. However, in northern hemispheres there is a flurry of cities with over 20 mph of wind.\n",
    "\n",
    "---\n",
    "\n",
    "#### Note\n",
    "* Instructions have been included for each segment. You do not have to follow them exactly, but they are included to help you think through the steps."
   ]
  },
  {
   "cell_type": "code",
   "execution_count": 1,
   "metadata": {
    "scrolled": true
   },
   "outputs": [],
   "source": [
    "# Dependencies and Setup\n",
    "import matplotlib.pyplot as plt\n",
    "import pandas as pd\n",
    "import numpy as np\n",
    "import requests\n",
    "import time\n",
    "from datetime import datetime\n",
    "# Import API key\n",
    "from api_keys import api_key\n",
    "\n",
    "# Incorporated citipy to determine city based on latitude and longitude\n",
    "from citipy import citipy\n",
    "\n",
    "# Output File (CSV)\n",
    "output_data_file = \"output_data/cities.csv\"\n",
    "\n",
    "# Range of latitudes and longitudes\n",
    "lat_range = (-90, 90)\n",
    "lng_range = (-180, 180)"
   ]
  },
  {
   "cell_type": "markdown",
   "metadata": {},
   "source": [
    "## Generate Cities List"
   ]
  },
  {
   "cell_type": "code",
   "execution_count": 2,
   "metadata": {},
   "outputs": [],
   "source": [
    "# List for holding lat_lngs and cities\n",
    "lat_lngs = []\n",
    "cities = []\n",
    "\n",
    "# Create a set of random lat and lng combinations\n",
    "#Samples are uniformly distributed over the half-open interval [low, high) (includes low, but excludes high)\n",
    "#size : Output shape: int or tuple of ints, optional\n",
    "# test size = 150 , actual size 1500, reduces to about 600 unqiue values\n",
    "lats = np.random.uniform(low=-90.000, high=90.000, size=15)\n",
    "lngs = np.random.uniform(low=-180.000, high=180.000, size=15)\n",
    "lat_lngs = zip(lats, lngs)\n",
    "\n",
    "# Identify nearest city for each lat, lng combination\n",
    "for lat_lng in lat_lngs:\n",
    "    city = citipy.nearest_city(lat_lng[0], lat_lng[1]).city_name\n",
    "    \n",
    "    # If the city is unique, then add it to a our cities list\n",
    "    if city not in cities:\n",
    "        cities.append(city)\n",
    "\n",
    "# Print the city count to confirm sufficient count\n",
    "cityCount=len(cities)"
   ]
  },
  {
   "cell_type": "code",
   "execution_count": 3,
   "metadata": {},
   "outputs": [],
   "source": [
    "#Prepare containers (City\tCloudiness\tCountry\tDate\tHumidity\tLat\tLng\tMax Temp\tWind Speed)\n",
    "rcities=[]\n",
    "rlats=[]\n",
    "rlngs=[]\n",
    "clouds=[]\n",
    "countries=[]\n",
    "dates=[]\n",
    "humidities=[]\n",
    "mxTemps=[]\n",
    "winds=[]\n",
    "degs=[]\n",
    "# Additional fields \n",
    "wdds=[]\n",
    "markers=[]\n",
    "colors=[]\n",
    "sortPrio=[]"
   ]
  },
  {
   "cell_type": "code",
   "execution_count": 4,
   "metadata": {
    "scrolled": false
   },
   "outputs": [
    {
     "name": "stdout",
     "output_type": "stream",
     "text": [
      "Processing Record 1 of 14 | atar\n",
      "Processing Record 2 of 14 | okato\n",
      "Processing Record 3 of 14 | hobart\n",
      "Processing Record 4 of 14 | isla vista\n",
      "Processing Record 5 of 14 | mar del plata\n",
      "Processing Record 6 of 14 | tazovskiy\n",
      "Skipped qui nhon\n",
      "Processing Record 7 of 14 | port elizabeth\n",
      "Processing Record 8 of 14 | butaritari\n",
      "Processing Record 9 of 14 | sao filipe\n",
      "Processing Record 10 of 14 | cidreira\n",
      "Processing Record 11 of 14 | hithadhoo\n",
      "Processing Record 12 of 14 | punta arenas\n",
      "Processing Record 13 of 14 | rikitea\n"
     ]
    }
   ],
   "source": [
    "### Perform API Calls\n",
    "url = \"http://api.openweathermap.org/data/2.5/weather?\"\n",
    "units = \"Imperial\"  # not metric\n",
    "appid = api_key\n",
    "query_url = url+\"appid=\"+api_key+\"&units=\"+units+\"&q=\"\n",
    "cityCounter=1\n",
    "for city in cities:\n",
    "    try:\n",
    "        city_query_url = query_url+city \n",
    "        response = requests.get(city_query_url).json()\n",
    "        rcities.append(response['name'])\n",
    "        rlats.append(response['coord']['lat'])\n",
    "        rlngs.append(response['coord']['lon'])\n",
    "        clouds.append(response['clouds']['all'])\n",
    "        countries.append(response['sys']['country'])\n",
    "        dates.append(response['dt'])\n",
    "        humidities.append(response['main']['humidity'])\n",
    "        mxTemps.append(response['main']['temp_max'])\n",
    "        winds.append(response['wind']['speed'])\n",
    "        degs.append(response['wind']['deg'])       \n",
    "      \n",
    "        print(\"Processing Record \"+str( cityCounter)+ \" of \" +str(cityCount)+\" | \" + city)\n",
    "        cityCounter= cityCounter+1\n",
    "    except:\n",
    "        print('Skipped '+city)\n"
   ]
  },
  {
   "cell_type": "code",
   "execution_count": 5,
   "metadata": {},
   "outputs": [
    {
     "name": "stdout",
     "output_type": "stream",
     "text": [
      "13 13 13 13 13 13 13 13 13 13 0\n"
     ]
    }
   ],
   "source": [
    "print(len(rcities), len(countries), \n",
    "    len(dates),len(rlats),len(rlngs),len(clouds),len(humidities),len(mxTemps),len(winds), len(degs), len(wdds))"
   ]
  },
  {
   "cell_type": "code",
   "execution_count": 6,
   "metadata": {},
   "outputs": [
    {
     "data": {
      "text/html": [
       "<div>\n",
       "<style scoped>\n",
       "    .dataframe tbody tr th:only-of-type {\n",
       "        vertical-align: middle;\n",
       "    }\n",
       "\n",
       "    .dataframe tbody tr th {\n",
       "        vertical-align: top;\n",
       "    }\n",
       "\n",
       "    .dataframe thead th {\n",
       "        text-align: right;\n",
       "    }\n",
       "</style>\n",
       "<table border=\"1\" class=\"dataframe\">\n",
       "  <thead>\n",
       "    <tr style=\"text-align: right;\">\n",
       "      <th></th>\n",
       "      <th>City</th>\n",
       "      <th>Country</th>\n",
       "      <th>Date</th>\n",
       "      <th>Lat</th>\n",
       "      <th>Long</th>\n",
       "      <th>Cloudiness</th>\n",
       "      <th>Humidity</th>\n",
       "      <th>Max Temp.</th>\n",
       "      <th>Wind Speed</th>\n",
       "      <th>Wind Direction</th>\n",
       "    </tr>\n",
       "  </thead>\n",
       "  <tbody>\n",
       "    <tr>\n",
       "      <th>0</th>\n",
       "      <td>Atar</td>\n",
       "      <td>MR</td>\n",
       "      <td>1544713200</td>\n",
       "      <td>20.52</td>\n",
       "      <td>-13.05</td>\n",
       "      <td>0</td>\n",
       "      <td>16</td>\n",
       "      <td>87.80</td>\n",
       "      <td>13.87</td>\n",
       "      <td>20.0000</td>\n",
       "    </tr>\n",
       "    <tr>\n",
       "      <th>1</th>\n",
       "      <td>Okato</td>\n",
       "      <td>NZ</td>\n",
       "      <td>1544716712</td>\n",
       "      <td>-39.19</td>\n",
       "      <td>173.88</td>\n",
       "      <td>56</td>\n",
       "      <td>96</td>\n",
       "      <td>59.79</td>\n",
       "      <td>5.86</td>\n",
       "      <td>23.5052</td>\n",
       "    </tr>\n",
       "    <tr>\n",
       "      <th>2</th>\n",
       "      <td>Hobart</td>\n",
       "      <td>AU</td>\n",
       "      <td>1544715000</td>\n",
       "      <td>-42.88</td>\n",
       "      <td>147.33</td>\n",
       "      <td>75</td>\n",
       "      <td>82</td>\n",
       "      <td>62.60</td>\n",
       "      <td>5.82</td>\n",
       "      <td>100.0000</td>\n",
       "    </tr>\n",
       "    <tr>\n",
       "      <th>3</th>\n",
       "      <td>Isla Vista</td>\n",
       "      <td>US</td>\n",
       "      <td>1544715300</td>\n",
       "      <td>34.41</td>\n",
       "      <td>-119.86</td>\n",
       "      <td>1</td>\n",
       "      <td>93</td>\n",
       "      <td>50.00</td>\n",
       "      <td>4.70</td>\n",
       "      <td>10.0000</td>\n",
       "    </tr>\n",
       "    <tr>\n",
       "      <th>4</th>\n",
       "      <td>Mar del Plata</td>\n",
       "      <td>AR</td>\n",
       "      <td>1544716712</td>\n",
       "      <td>-46.43</td>\n",
       "      <td>-67.52</td>\n",
       "      <td>32</td>\n",
       "      <td>36</td>\n",
       "      <td>70.64</td>\n",
       "      <td>9.89</td>\n",
       "      <td>295.0050</td>\n",
       "    </tr>\n",
       "  </tbody>\n",
       "</table>\n",
       "</div>"
      ],
      "text/plain": [
       "            City Country        Date    Lat    Long  Cloudiness  Humidity  \\\n",
       "0           Atar      MR  1544713200  20.52  -13.05           0        16   \n",
       "1          Okato      NZ  1544716712 -39.19  173.88          56        96   \n",
       "2         Hobart      AU  1544715000 -42.88  147.33          75        82   \n",
       "3     Isla Vista      US  1544715300  34.41 -119.86           1        93   \n",
       "4  Mar del Plata      AR  1544716712 -46.43  -67.52          32        36   \n",
       "\n",
       "   Max Temp.  Wind Speed  Wind Direction  \n",
       "0      87.80       13.87         20.0000  \n",
       "1      59.79        5.86         23.5052  \n",
       "2      62.60        5.82        100.0000  \n",
       "3      50.00        4.70         10.0000  \n",
       "4      70.64        9.89        295.0050  "
      ]
     },
     "execution_count": 6,
     "metadata": {},
     "output_type": "execute_result"
    }
   ],
   "source": [
    "### Convert Raw Data to DataFrame & save\n",
    "weather_dict = {\n",
    "    \"City\": rcities,\n",
    "    \"Country\":countries,\n",
    "    \"Date\":dates,\n",
    "    \"Lat\": rlats,\n",
    "    \"Long\": rlngs,\n",
    "    \"Cloudiness\": clouds,\n",
    "    \"Humidity\": humidities,\n",
    "    \"Max Temp.\":mxTemps,\n",
    "    \"Wind Speed\": winds,\n",
    "    \"Wind Direction\":degs\n",
    "}\n",
    "\n",
    "weather_data = pd.DataFrame(weather_dict)\n",
    "now = datetime.now()\n",
    "\n",
    "filen=\"weatherData\"+now.strftime(\"%Y%m%d\") +\".csv\"\n",
    "weather_data.to_csv(filen)\n",
    "\n",
    "weather_data.head()"
   ]
  },
  {
   "cell_type": "markdown",
   "metadata": {},
   "source": [
    "### Plotting the Data\n",
    "* Use proper labeling of the plots using plot titles (including date of analysis) and axes labels.\n",
    "* Save the plotted figures as .pngs."
   ]
  },
  {
   "cell_type": "markdown",
   "metadata": {},
   "source": [
    "#### Latitude vs. Temperature Plot"
   ]
  },
  {
   "cell_type": "code",
   "execution_count": 7,
   "metadata": {},
   "outputs": [
    {
     "data": {
      "image/png": "[encoded data removed]",
      "text/plain": [
       "<Figure size 1008x504 with 1 Axes>"
      ]
     },
     "metadata": {},
     "output_type": "display_data"
    }
   ],
   "source": [
    "import seaborn as sns\n",
    "sns.set()\n",
    "\n",
    "# x: lat , y: temp\n",
    "x= weather_data['Lat']\n",
    "y= weather_data['Max Temp.']\n",
    "s= y*2\n",
    "plt.figure(figsize=(14, 7), dpi= 72)\n",
    "\n",
    "plt.scatter(x,y, marker='o',s=s, facecolors='y' ,edgecolors='tab:orange', alpha=0.75)\n",
    "#gca=get current axis\n",
    "plt.gca().set(xlim=(-95,95), \n",
    "              ylim=(min(weather_data['Max Temp.'])-5,max(weather_data['Max Temp.'])+10), \n",
    "              xlabel='Latitude', \n",
    "              ylabel='Temperature (•F)')\n",
    "plt.xticks(fontsize=13)\n",
    "plt.yticks(fontsize=13)\n",
    "plt.title='Temperature (F) vs. Latitude '\n",
    "plt.legend(fontsize=16)\n",
    "plt.show()"
   ]
  },
  {
   "cell_type": "markdown",
   "metadata": {},
   "source": [
    "#### Latitude vs. Humidity Plot"
   ]
  },
  {
   "cell_type": "code",
   "execution_count": 8,
   "metadata": {},
   "outputs": [
    {
     "data": {
      "image/png": "[encoded data removed]",
      "text/plain": [
       "<Figure size 1008x504 with 1 Axes>"
      ]
     },
     "metadata": {},
     "output_type": "display_data"
    }
   ],
   "source": [
    "x= weather_data['Lat']\n",
    "y= weather_data['Humidity']\n",
    "s= y*10\n",
    "plt.figure(figsize=(14, 7), dpi= 72)\n",
    "\n",
    "plt.scatter(x,y, marker='o', facecolors='tab:gray' ,edgecolors='b', alpha=0.75)\n",
    "#gca=get current axis\n",
    "plt.gca().set(xlim=(-95,95), \n",
    "              ylim=(0,105), \n",
    "              xlabel='Latitude', \n",
    "              ylabel='Humidity (%)')\n",
    "plt.xticks(fontsize=13)\n",
    "plt.yticks(fontsize=13)\n",
    "plt.title='Humidity  vs. Latitude '\n",
    "plt.legend(fontsize=16)\n",
    "plt.show()"
   ]
  },
  {
   "cell_type": "code",
   "execution_count": 9,
   "metadata": {},
   "outputs": [
    {
     "data": {
      "image/png": "[encoded data removed]",
      "text/plain": [
       "<Figure size 1008x504 with 1 Axes>"
      ]
     },
     "metadata": {},
     "output_type": "display_data"
    }
   ],
   "source": [
    "x= weather_data['Lat']\n",
    "y= weather_data['Cloudiness']\n",
    "s= y*10\n",
    "plt.figure(figsize=(14, 7), dpi= 72)\n",
    "\n",
    "plt.scatter(x,y, marker='o', facecolors='b' ,edgecolors='tab:gray', alpha=0.75)\n",
    "#gca=get current axis\n",
    "plt.gca().set(xlim=(-95,95), \n",
    "              ylim=(-5,105), \n",
    "              xlabel='Latitude', \n",
    "              ylabel='Cloudiness (%)')\n",
    "plt.xticks(fontsize=13)\n",
    "plt.yticks(fontsize=13)\n",
    "plt.title='Cloudiness  vs. Latitude '\n",
    "plt.legend(fontsize=16)\n",
    "plt.show()"
   ]
  },
  {
   "cell_type": "markdown",
   "metadata": {},
   "source": [
    " #Latitude vs. Wind Speed Plot"
   ]
  },
  {
   "cell_type": "code",
   "execution_count": null,
   "metadata": {},
   "outputs": [],
   "source": []
  },
  {
   "cell_type": "code",
   "execution_count": 10,
   "metadata": {},
   "outputs": [
    {
     "data": {
      "image/png": "[encoded data removed]",
      "text/plain": [
       "<Figure size 1008x504 with 1 Axes>"
      ]
     },
     "metadata": {},
     "output_type": "display_data"
    }
   ],
   "source": [
    "x= weather_data['Lat']\n",
    "y= weather_data['Humidity']\n",
    "s= y*10\n",
    "plt.figure(figsize=(14, 7), dpi= 72)\n",
    "\n",
    "plt.scatter(x,y, facecolors='r' ,edgecolors='tab:gray', alpha=0.75)\n",
    "#gca=get current axis\n",
    "plt.gca().set(xlim=(-95,95), \n",
    "              ylim=(-5,105), \n",
    "              xlabel='Latitude', \n",
    "              ylabel='Humidity (%)')\n",
    "plt.xticks(fontsize=13)\n",
    "plt.yticks(fontsize=13)\n",
    "plt.title='Cloudiness  vs. Latitude '\n",
    "plt.legend(fontsize=16)\n",
    "plt.show()"
   ]
  },
  {
   "cell_type": "code",
   "execution_count": 11,
   "metadata": {},
   "outputs": [
    {
     "data": {
      "image/png": "[encoded data removed]",
      "text/plain": [
       "<Figure size 1008x504 with 1 Axes>"
      ]
     },
     "metadata": {},
     "output_type": "display_data"
    }
   ],
   "source": [
    "x= weather_data['Lat']\n",
    "y= weather_data['Wind Speed']\n",
    "s= y*10\n",
    "plt.figure(figsize=(14, 7), dpi= 72)\n",
    "\n",
    "plt.scatter(x,y, facecolors=colors ,edgecolors='tab:gray', alpha=0.75)\n",
    "#gca=get current axis\n",
    "plt.gca().set(xlim=(-95,95), \n",
    "              ylim=(-5,105), \n",
    "              xlabel='Latitude', \n",
    "              ylabel='Wind Speed(mph)')\n",
    "plt.xticks(fontsize=13)\n",
    "plt.yticks(fontsize=13)\n",
    "plt.title='Wind Speed  vs. Latitude '\n",
    "plt.legend(fontsize=16)\n",
    "plt.show()"
   ]
  },
  {
   "cell_type": "code",
   "execution_count": 12,
   "metadata": {},
   "outputs": [
    {
     "ename": "IndentationError",
     "evalue": "unindent does not match any outer indentation level (<ipython-input-12-956ba9bec461>, line 54)",
     "output_type": "error",
     "traceback": [
      "\u001b[0;36m  File \u001b[0;32m\"<ipython-input-12-956ba9bec461>\"\u001b[0;36m, line \u001b[0;32m54\u001b[0m\n\u001b[0;31m    if ~firstOfGroups[4]:\u001b[0m\n\u001b[0m                         ^\u001b[0m\n\u001b[0;31mIndentationError\u001b[0m\u001b[0;31m:\u001b[0m unindent does not match any outer indentation level\n"
     ]
    }
   ],
   "source": [
    "#sns.unset()\n",
    "\n",
    "avmarkers_df=pd.DataFrame(markers,degs).reset_index()\n",
    "\n",
    "def getMarker(i):\n",
    "    return \"$\"+markers[i% len(markers)]+\"$\"\n",
    "\n",
    "def getColor(i):\n",
    "    return colors[i% len(colors)]\n",
    "\n",
    "\n",
    "firstOfGroups=[False,False,False,False,False,False,False,False]  \n",
    "for d in degs:\n",
    "    if  d > 337 or d < 22.5:\n",
    "        markers.append('\\\\rightarrow')\n",
    "        colors.append('tab:blue')\n",
    "        wdds.append('E')\n",
    "        if ~firstOfGroups[0]:\n",
    "            sortPrio.append(0)\n",
    "            firstOfGroups[0]=True\n",
    "        else:\n",
    "            sortPrio.append(1)\n",
    "    elif d >=22.5 and d <65:\n",
    "        markers.append('\\\\nearrow')\n",
    "        colors.append('tab:orange')\n",
    "        wdds.append('NE')\n",
    "        if ~firstOfGroups[1]:\n",
    "            sortPrio.append(0)\n",
    "            firstOfGroups[1]=True\n",
    "        else:\n",
    "            sortPrio.append(1)   \n",
    "    elif d >=65 and d< 112.5:\n",
    "        markers.append('\\\\uparrow')\n",
    "        colors.append('tab:green')\n",
    "        wdds.append('N')\n",
    "        if ~firstOfGroups[2]:\n",
    "            sortPrio.append(0)\n",
    "            firstOfGroups[2]=True\n",
    "        else:\n",
    "            sortPrio.append(1)      \n",
    "    elif d >=112.5 and d < 157.5:\n",
    "        markers.append('\\\\nwarrow')\n",
    "        colors.append('tab:red')\n",
    "        wdds.append('NW')\n",
    "        if ~firstOfGroups[3]:\n",
    "            sortPrio.append(0)\n",
    "            firstOfGroups[3]=True\n",
    "        else:\n",
    "            sortPrio.append(1)   \n",
    "    elif d >=157.5 and d < 202.5:\n",
    "            markers.append('\\\\leftarrow')\n",
    "            colors.append('tab:purple')\n",
    "            wdds.append('W')\n",
    "        if ~firstOfGroups[4]:\n",
    "            sortPrio.append(0)\n",
    "            firstOfGroups[4]=True\n",
    "        else:\n",
    "            sortPrio.append(1)\n",
    "    elif d >=202.5 and d < 247.5:\n",
    "            markers.append('\\\\swarrow')\n",
    "            colors.append('tab:brown')\n",
    "            wdds.append('SW')\n",
    "        if ~firstOfGroups[5]:\n",
    "            sortPrio.append(0)\n",
    "            firstOfGroups[5]=True\n",
    "        else:\n",
    "            sortPrio.append(1)  \n",
    "    elif d >=247.5 and d < 292.5:\n",
    "            markers.append('\\\\downarrow')\n",
    "            colors.append('tab:pink')\n",
    "            wdds.append('S')\n",
    "        if ~firstOfGroups[6]:\n",
    "            sortPrio.append(0)\n",
    "            firstOfGroups[6]=True\n",
    "        else:\n",
    "            sortPrio.append(1)\n",
    "    else: \n",
    "            markers.append('\\\\searrow')\n",
    "            colors.append('tab:olive')\n",
    "            wdds.append('SE')\n",
    "        if ~firstOfGroups[6]:\n",
    "            sortPrio.append(0)\n",
    "            firstOfGroups[6]=True\n",
    "        else:\n",
    "            sortPrio.append(1)"
   ]
  },
  {
   "cell_type": "code",
   "execution_count": 91,
   "metadata": {},
   "outputs": [
    {
     "data": {
      "image/png": "[encoded data removed]",
      "text/plain": [
       "<Figure size 1008x504 with 1 Axes>"
      ]
     },
     "metadata": {},
     "output_type": "display_data"
    }
   ],
   "source": [
    "\n",
    "\n",
    "x= weather_data['Lat']\n",
    "y= weather_data['Wind Speed']\n",
    "s= y*10\n",
    "plt.figure(figsize=(14, 7), dpi= 72)\n",
    "\n",
    "#plt.scatter(x,y, marker=markers, facecolors='tab:gray' ,edgecolors='b', alpha=0.75)\n",
    "for c, value in enumerate(markers):\n",
    "    plt.plot(x[c],y[c], marker=getMarker(c), c=getColor(c), markersize=13)\n",
    "#gca=get current axis\n",
    "plt.gca().set(xlim=(-95,95), \n",
    "              ylim=(min(weather_data['Wind Speed']-5),max(weather_data['Wind Speed']+15)), \n",
    "              xlabel='Latitude', \n",
    "              ylabel='Wind Speed (mph)')\n",
    "plt.xticks(fontsize=13)\n",
    "plt.yticks(fontsize=13)\n",
    "plt.title='Wind Speed vs. Latitude '\n",
    "### Sort first group second group... \n",
    "## sort first ocurrance within a range !!!\n",
    "plt.legend(fontsize=15)\n",
    "plt.show()"
   ]
  },
  {
   "cell_type": "code",
   "execution_count": 82,
   "metadata": {},
   "outputs": [
    {
     "data": {
      "text/plain": [
       "'$\\\\searrow$'"
      ]
     },
     "execution_count": 82,
     "metadata": {},
     "output_type": "execute_result"
    }
   ],
   "source": [
    "weather_data\n",
    "markers\n",
    "getMarker(5)"
   ]
  },
  {
   "cell_type": "code",
   "execution_count": null,
   "metadata": {},
   "outputs": [],
   "source": []
  }
 ],
 "metadata": {
  "anaconda-cloud": {},
  "kernelspec": {
   "display_name": "Python 3",
   "language": "python",
   "name": "python3"
  },
  "language_info": {
   "codemirror_mode": {
    "name": "ipython",
    "version": 3
   },
   "file_extension": ".py",
   "mimetype": "text/x-python",
   "name": "python",
   "nbconvert_exporter": "python",
   "pygments_lexer": "ipython3",
   "version": "3.7.0"
  }
 },
 "nbformat": 4,
 "nbformat_minor": 2
}
