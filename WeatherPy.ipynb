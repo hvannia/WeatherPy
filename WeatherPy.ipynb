{
 "cells": [
  {
   "cell_type": "markdown",
   "metadata": {},
   "source": [
    "# WeatherPy\n",
    "----\n",
    "\n",
    "### Analysis\n",
    "* As expected, the weather becomes significantly warmer as one approaches the equator (0 Deg. Latitude). More interestingly, however, is the fact that the southern hemisphere tends to be warmer this time of year than the northern hemisphere. This may be due to the tilt of the earth.\n",
    "* There is no strong relationship between latitude and cloudiness. However, it is interesting to see that a strong band of cities sits at 0, 80, and 100% cloudiness.\n",
    "* There is no strong relationship between latitude and wind speed. However, in northern hemispheres there is a flurry of cities with over 20 mph of wind.\n",
    "\n",
    "---\n",
    "\n",
    "#### Note\n",
    "* Instructions have been included for each segment. You do not have to follow them exactly, but they are included to help you think through the steps."
   ]
  },
  {
   "cell_type": "code",
   "execution_count": 1,
   "metadata": {
    "scrolled": true
   },
   "outputs": [],
   "source": [
    "# Dependencies and Setup\n",
    "import matplotlib.pyplot as plt\n",
    "import pandas as pd\n",
    "import numpy as np\n",
    "import requests\n",
    "import time\n",
    "from datetime import datetime\n",
    "# Import API key\n",
    "from api_keys import api_key\n",
    "\n",
    "# Incorporated citipy to determine city based on latitude and longitude\n",
    "from citipy import citipy\n",
    "\n",
    "# Output File (CSV)\n",
    "output_data_file = \"output_data/cities.csv\"\n",
    "\n",
    "# Range of latitudes and longitudes\n",
    "lat_range = (-90, 90)\n",
    "lng_range = (-180, 180)"
   ]
  },
  {
   "cell_type": "markdown",
   "metadata": {},
   "source": [
    "## Generate Cities List"
   ]
  },
  {
   "cell_type": "code",
   "execution_count": 2,
   "metadata": {},
   "outputs": [],
   "source": [
    "# List for holding lat_lngs and cities\n",
    "lat_lngs = []\n",
    "cities = []\n",
    "\n",
    "# Create a set of random lat and lng combinations\n",
    "#Samples are uniformly distributed over the half-open interval [low, high) (includes low, but excludes high)\n",
    "#size : Output shape: int or tuple of ints, optional\n",
    "# test size = 150 , actual size 1500, reduces to about 600 unqiue values\n",
    "lats = np.random.uniform(low=-90.000, high=90.000, size=15)\n",
    "lngs = np.random.uniform(low=-180.000, high=180.000, size=15)\n",
    "lat_lngs = zip(lats, lngs)\n",
    "\n",
    "# Identify nearest city for each lat, lng combination\n",
    "for lat_lng in lat_lngs:\n",
    "    city = citipy.nearest_city(lat_lng[0], lat_lng[1]).city_name\n",
    "    \n",
    "    # If the city is unique, then add it to a our cities list\n",
    "    if city not in cities:\n",
    "        cities.append(city)\n",
    "\n",
    "# Print the city count to confirm sufficient count\n",
    "cityCount=len(cities)"
   ]
  },
  {
   "cell_type": "code",
   "execution_count": 3,
   "metadata": {},
   "outputs": [],
   "source": [
    "#Prepare containers (City\tCloudiness\tCountry\tDate\tHumidity\tLat\tLng\tMax Temp\tWind Speed)\n",
    "rcities=[]\n",
    "rlats=[]\n",
    "rlngs=[]\n",
    "clouds=[]\n",
    "countries=[]\n",
    "dates=[]\n",
    "humidities=[]\n",
    "mxTemps=[]\n",
    "winds=[]\n",
    "degs=[]\n",
    "wdds=[]\n",
    "#wddsU= ['','','','','','','','']#np.zeros(8)\n",
    "markers=[]\n",
    "colors=[]"
   ]
  },
  {
   "cell_type": "code",
   "execution_count": 4,
   "metadata": {
    "scrolled": false
   },
   "outputs": [
    {
     "name": "stdout",
     "output_type": "stream",
     "text": [
      "Processing Record 1 of 15 | burnie\n",
      "Processing Record 2 of 15 | port alfred\n",
      "Processing Record 3 of 15 | bredasdorp\n",
      "Processing Record 4 of 15 | barcelona\n",
      "Processing Record 5 of 15 | bluff\n",
      "Processing Record 6 of 15 | terney\n",
      "Processing Record 7 of 15 | rikitea\n",
      "Processing Record 8 of 15 | camapua\n",
      "Processing Record 9 of 15 | hermanus\n",
      "Processing Record 10 of 15 | butaritari\n",
      "Processing Record 11 of 15 | provideniya\n",
      "Processing Record 12 of 15 | ariquemes\n",
      "Processing Record 13 of 15 | tupik\n",
      "Processing Record 14 of 15 | portland\n",
      "Processing Record 15 of 15 | kununurra\n"
     ]
    }
   ],
   "source": [
    "### Perform API Calls\n",
    "url = \"http://api.openweathermap.org/data/2.5/weather?\"\n",
    "units = \"Imperial\"  # not metric\n",
    "appid = api_key\n",
    "query_url = url+\"appid=\"+api_key+\"&units=\"+units+\"&q=\"\n",
    "\n",
    "cityCounter=1\n",
    "for city in cities:\n",
    "    try:\n",
    "        city_query_url = query_url+city \n",
    "        response = requests.get(city_query_url).json()\n",
    "        rcities.append(response['name'])\n",
    "        rlats.append(response['coord']['lat'])\n",
    "        rlngs.append(response['coord']['lon'])\n",
    "        clouds.append(response['clouds']['all'])\n",
    "        countries.append(response['sys']['country'])\n",
    "        dates.append(response['dt'])\n",
    "        humidities.append(response['main']['humidity'])\n",
    "        mxTemps.append(response['main']['temp_max'])\n",
    "        winds.append(response['wind']['speed'])\n",
    "        degs.append(response['wind']['deg'])       \n",
    "        d= int(response['wind']['deg'])\n",
    "        if  d > 337 or d < 22.5:\n",
    "            markers.append('\\\\rightarrow')\n",
    "            colors.append('tab:blue')\n",
    "            wdds.append('E')\n",
    "        elif d >=22.5 and d <65:\n",
    "            markers.append('\\\\nearrow')\n",
    "            colors.append('tab:orange')\n",
    "            wdds.append('NE')\n",
    "        elif d >=65 and d< 112.5:\n",
    "            markers.append('\\\\uparrow')\n",
    "            colors.append('tab:green')\n",
    "            wdds.append('N')\n",
    "        elif d >=112.5 and d < 157.5:\n",
    "            markers.append('\\\\nwarrow')\n",
    "            colors.append('tab:red')\n",
    "            wdds.append('NW')\n",
    "        elif d >=157.5 and d < 202.5:\n",
    "            markers.append('\\\\leftarrow')\n",
    "            colors.append('tab:purple')\n",
    "            wdds.append('W')\n",
    "        elif d >=202.5 and d < 247.5:\n",
    "            markers.append('\\\\swarrow')\n",
    "            colors.append('tab:brown')\n",
    "            wdds.append('SW')\n",
    "        elif d >=247.5 and d < 292.5:\n",
    "            markers.append('\\\\downarrow')\n",
    "            colors.append('tab:pink')\n",
    "            wdds.append('S')\n",
    "        else: \n",
    "            markers.append('\\\\searrow')\n",
    "            colors.append('tab:olive')\n",
    "            wdds.append('SE')     \n",
    "        print(\"Processing Record \"+str( cityCounter)+ \" of \" +str(cityCount)+\" | \" + city)\n",
    "        cityCounter= cityCounter+1\n",
    "    except:\n",
    "        print('Skipped '+city)\n"
   ]
  },
  {
   "cell_type": "code",
   "execution_count": 5,
   "metadata": {},
   "outputs": [
    {
     "name": "stdout",
     "output_type": "stream",
     "text": [
      "15 15 15 15 15 15 15 15 15 15 15\n"
     ]
    }
   ],
   "source": [
    "print(len(rcities), len(countries), \n",
    "    len(dates),len(rlats),len(rlngs),len(clouds),len(humidities),len(mxTemps),len(winds), len(degs), len(wdds))"
   ]
  },
  {
   "cell_type": "code",
   "execution_count": 8,
   "metadata": {},
   "outputs": [
    {
     "data": {
      "text/html": [
       "<div>\n",
       "<style scoped>\n",
       "    .dataframe tbody tr th:only-of-type {\n",
       "        vertical-align: middle;\n",
       "    }\n",
       "\n",
       "    .dataframe tbody tr th {\n",
       "        vertical-align: top;\n",
       "    }\n",
       "\n",
       "    .dataframe thead th {\n",
       "        text-align: right;\n",
       "    }\n",
       "</style>\n",
       "<table border=\"1\" class=\"dataframe\">\n",
       "  <thead>\n",
       "    <tr style=\"text-align: right;\">\n",
       "      <th></th>\n",
       "      <th>City</th>\n",
       "      <th>Country</th>\n",
       "      <th>Date</th>\n",
       "      <th>Lat</th>\n",
       "      <th>Long</th>\n",
       "      <th>Cloudiness</th>\n",
       "      <th>Humidity</th>\n",
       "      <th>Max Temp.</th>\n",
       "      <th>Wind Speed</th>\n",
       "      <th>Wind Direction</th>\n",
       "      <th>wdd</th>\n",
       "    </tr>\n",
       "  </thead>\n",
       "  <tbody>\n",
       "    <tr>\n",
       "      <th>0</th>\n",
       "      <td>Burnie</td>\n",
       "      <td>AU</td>\n",
       "      <td>1544679016</td>\n",
       "      <td>-41.05</td>\n",
       "      <td>145.91</td>\n",
       "      <td>92</td>\n",
       "      <td>95</td>\n",
       "      <td>62.41</td>\n",
       "      <td>23.78</td>\n",
       "      <td>97.50480</td>\n",
       "      <td>N</td>\n",
       "    </tr>\n",
       "    <tr>\n",
       "      <th>1</th>\n",
       "      <td>Port Alfred</td>\n",
       "      <td>ZA</td>\n",
       "      <td>1544678205</td>\n",
       "      <td>-33.59</td>\n",
       "      <td>26.89</td>\n",
       "      <td>12</td>\n",
       "      <td>90</td>\n",
       "      <td>68.08</td>\n",
       "      <td>10.25</td>\n",
       "      <td>263.50500</td>\n",
       "      <td>S</td>\n",
       "    </tr>\n",
       "    <tr>\n",
       "      <th>2</th>\n",
       "      <td>Bredasdorp</td>\n",
       "      <td>ZA</td>\n",
       "      <td>1544677200</td>\n",
       "      <td>-34.53</td>\n",
       "      <td>20.04</td>\n",
       "      <td>80</td>\n",
       "      <td>63</td>\n",
       "      <td>66.20</td>\n",
       "      <td>4.70</td>\n",
       "      <td>350.00000</td>\n",
       "      <td>E</td>\n",
       "    </tr>\n",
       "    <tr>\n",
       "      <th>3</th>\n",
       "      <td>Barcelona</td>\n",
       "      <td>ES</td>\n",
       "      <td>1544677200</td>\n",
       "      <td>41.38</td>\n",
       "      <td>2.18</td>\n",
       "      <td>20</td>\n",
       "      <td>81</td>\n",
       "      <td>50.00</td>\n",
       "      <td>8.05</td>\n",
       "      <td>330.00000</td>\n",
       "      <td>SE</td>\n",
       "    </tr>\n",
       "    <tr>\n",
       "      <th>4</th>\n",
       "      <td>Bluff</td>\n",
       "      <td>AU</td>\n",
       "      <td>1544678895</td>\n",
       "      <td>-23.58</td>\n",
       "      <td>149.07</td>\n",
       "      <td>92</td>\n",
       "      <td>95</td>\n",
       "      <td>73.43</td>\n",
       "      <td>5.10</td>\n",
       "      <td>3.00476</td>\n",
       "      <td>E</td>\n",
       "    </tr>\n",
       "  </tbody>\n",
       "</table>\n",
       "</div>"
      ],
      "text/plain": [
       "          City Country        Date    Lat    Long  Cloudiness  Humidity  \\\n",
       "0       Burnie      AU  1544679016 -41.05  145.91          92        95   \n",
       "1  Port Alfred      ZA  1544678205 -33.59   26.89          12        90   \n",
       "2   Bredasdorp      ZA  1544677200 -34.53   20.04          80        63   \n",
       "3    Barcelona      ES  1544677200  41.38    2.18          20        81   \n",
       "4        Bluff      AU  1544678895 -23.58  149.07          92        95   \n",
       "\n",
       "   Max Temp.  Wind Speed  Wind Direction wdd  \n",
       "0      62.41       23.78        97.50480   N  \n",
       "1      68.08       10.25       263.50500   S  \n",
       "2      66.20        4.70       350.00000   E  \n",
       "3      50.00        8.05       330.00000  SE  \n",
       "4      73.43        5.10         3.00476   E  "
      ]
     },
     "execution_count": 8,
     "metadata": {},
     "output_type": "execute_result"
    }
   ],
   "source": [
    "### Convert Raw Data to DataFrame & save\n",
    "weather_dict = {\n",
    "    \"City\": rcities,\n",
    "    \"Country\":countries,\n",
    "    \"Date\":dates,\n",
    "    \"Lat\": rlats,\n",
    "    \"Long\": rlngs,\n",
    "    \"Cloudiness\": clouds,\n",
    "    \"Humidity\": humidities,\n",
    "    \"Max Temp.\":mxTemps,\n",
    "    \"Wind Speed\": winds,\n",
    "    \"Wind Direction\":degs,\n",
    "    \"wdd\":wdds\n",
    "}\n",
    "\n",
    "weather_data = pd.DataFrame(weather_dict)\n",
    "now = datetime.now()\n",
    "\n",
    "filen=\"weatherData\"+now.strftime(\"%Y%m%d\") +\".csv\"\n",
    "weather_data.to_csv(filen)\n",
    "\n",
    "weather_data.head()"
   ]
  },
  {
   "cell_type": "markdown",
   "metadata": {},
   "source": [
    "### Plotting the Data\n",
    "* Use proper labeling of the plots using plot titles (including date of analysis) and axes labels.\n",
    "* Save the plotted figures as .pngs."
   ]
  },
  {
   "cell_type": "markdown",
   "metadata": {},
   "source": [
    "#### Latitude vs. Temperature Plot"
   ]
  },
  {
   "cell_type": "code",
   "execution_count": 31,
   "metadata": {},
   "outputs": [
    {
     "name": "stderr",
     "output_type": "stream",
     "text": [
      "/anaconda3/lib/python3.7/site-packages/matplotlib/collections.py:902: RuntimeWarning: invalid value encountered in sqrt\n",
      "  scale = np.sqrt(self._sizes) * dpi / 72.0 * self._factor\n"
     ]
    },
    {
     "data": {
      "image/png": "[encoded data removed]",
      "text/plain": [
       "<Figure size 1008x504 with 1 Axes>"
      ]
     },
     "metadata": {},
     "output_type": "display_data"
    }
   ],
   "source": [
    "import seaborn as sns\n",
    "sns.set()\n",
    "\n",
    "# x: lat , y: temp\n",
    "x= weather_data['Lat']\n",
    "y= weather_data['Max Temp.']\n",
    "s= y*2\n",
    "plt.figure(figsize=(14, 7), dpi= 72)\n",
    "\n",
    "plt.scatter(x,y, marker='o',s=s, facecolors='y' ,edgecolors='tab:orange', alpha=0.75)\n",
    "#gca=get current axis\n",
    "plt.gca().set(xlim=(-95,95), \n",
    "              ylim=(min(weather_data['Max Temp.'])-5,max(weather_data['Max Temp.'])+10), \n",
    "              xlabel='Latitude', \n",
    "              ylabel='Temperature (•F)')\n",
    "plt.xticks(fontsize=13)\n",
    "plt.yticks(fontsize=13)\n",
    "plt.title='Temperature (F) vs. Latitude '\n",
    "plt.legend(fontsize=16)\n",
    "plt.show()"
   ]
  },
  {
   "cell_type": "markdown",
   "metadata": {},
   "source": [
    "#### Latitude vs. Humidity Plot"
   ]
  },
  {
   "cell_type": "code",
   "execution_count": 32,
   "metadata": {},
   "outputs": [
    {
     "data": {
      "image/png": "[encoded data removed]",
      "text/plain": [
       "<Figure size 1008x504 with 1 Axes>"
      ]
     },
     "metadata": {},
     "output_type": "display_data"
    }
   ],
   "source": [
    "x= weather_data['Lat']\n",
    "y= weather_data['Humidity']\n",
    "s= y*10\n",
    "plt.figure(figsize=(14, 7), dpi= 72)\n",
    "\n",
    "plt.scatter(x,y, marker='o', facecolors='tab:gray' ,edgecolors='b', alpha=0.75)\n",
    "#gca=get current axis\n",
    "plt.gca().set(xlim=(-95,95), \n",
    "              ylim=(0,105), \n",
    "              xlabel='Latitude', \n",
    "              ylabel='Humidity (%)')\n",
    "plt.xticks(fontsize=13)\n",
    "plt.yticks(fontsize=13)\n",
    "plt.title='Humidity  vs. Latitude '\n",
    "plt.legend(fontsize=16)\n",
    "plt.show()"
   ]
  },
  {
   "cell_type": "code",
   "execution_count": 33,
   "metadata": {},
   "outputs": [
    {
     "data": {
      "image/png": "[encoded data removed]",
      "text/plain": [
       "<Figure size 1008x504 with 1 Axes>"
      ]
     },
     "metadata": {},
     "output_type": "display_data"
    }
   ],
   "source": [
    "x= weather_data['Lat']\n",
    "y= weather_data['Cloudiness']\n",
    "s= y*10\n",
    "plt.figure(figsize=(14, 7), dpi= 72)\n",
    "\n",
    "plt.scatter(x,y, marker='o', facecolors='b' ,edgecolors='tab:gray', alpha=0.75)\n",
    "#gca=get current axis\n",
    "plt.gca().set(xlim=(-95,95), \n",
    "              ylim=(-5,105), \n",
    "              xlabel='Latitude', \n",
    "              ylabel='Cloudiness (%)')\n",
    "plt.xticks(fontsize=13)\n",
    "plt.yticks(fontsize=13)\n",
    "plt.title='Cloudiness  vs. Latitude '\n",
    "plt.legend(fontsize=16)\n",
    "plt.show()"
   ]
  },
  {
   "cell_type": "markdown",
   "metadata": {},
   "source": [
    " #Latitude vs. Wind Speed Plot"
   ]
  },
  {
   "cell_type": "code",
   "execution_count": 35,
   "metadata": {},
   "outputs": [],
   "source": [
    "#sns.unset()\n",
    "\n",
    "avmarkers_df=pd.DataFrame(markers,degs).reset_index()\n",
    "\n",
    "def getMarker(i):\n",
    "    return \"$\"+markers[i% len(markers)]+\"$\"\n",
    "\n",
    "def getColor(i):\n",
    "    return colors[i% len(colors)]\n"
   ]
  },
  {
   "cell_type": "code",
   "execution_count": 37,
   "metadata": {},
   "outputs": [
    {
     "data": {
      "image/png": "[encoded data removed]",
      "text/plain": [
       "<Figure size 1008x504 with 1 Axes>"
      ]
     },
     "metadata": {},
     "output_type": "display_data"
    }
   ],
   "source": [
    "\n",
    "\n",
    "x= weather_data['Lat']\n",
    "y= weather_data['Wind Speed']\n",
    "s= y*10\n",
    "plt.figure(figsize=(14, 7), dpi= 72)\n",
    "\n",
    "#plt.scatter(x,y, marker=markers, facecolors='tab:gray' ,edgecolors='b', alpha=0.75)\n",
    "for c, value in enumerate(markers):\n",
    "    plt.plot(x[c],y[c], marker=getMarker(c), c=getColor(c), markersize=13)\n",
    "#gca=get current axis\n",
    "plt.gca().set(xlim=(-95,95), \n",
    "              ylim=(min(weather_data['Wind Speed']-5),max(weather_data['Wind Speed']+15)), \n",
    "              xlabel='Latitude', \n",
    "              ylabel='Wind Speed (mph)')\n",
    "plt.xticks(fontsize=13)\n",
    "plt.yticks(fontsize=13)\n",
    "plt.title='Wind Speed vs. Latitude '\n",
    "\n",
    "plt.legend('aghhh!',fontsize=15)\n",
    "plt.show()"
   ]
  },
  {
   "cell_type": "code",
   "execution_count": 23,
   "metadata": {},
   "outputs": [
    {
     "data": {
      "text/plain": [
       "array(['N', 'S', 'E', 'SE', 'W', 'SW', 'NW'], dtype=object)"
      ]
     },
     "execution_count": 23,
     "metadata": {},
     "output_type": "execute_result"
    }
   ],
   "source": [
    "weather_data\n",
    "weather_data.wdd.unique()\n"
   ]
  },
  {
   "cell_type": "code",
   "execution_count": null,
   "metadata": {},
   "outputs": [],
   "source": []
  }
 ],
 "metadata": {
  "anaconda-cloud": {},
  "kernelspec": {
   "display_name": "Python 3",
   "language": "python",
   "name": "python3"
  },
  "language_info": {
   "codemirror_mode": {
    "name": "ipython",
    "version": 3
   },
   "file_extension": ".py",
   "mimetype": "text/x-python",
   "name": "python",
   "nbconvert_exporter": "python",
   "pygments_lexer": "ipython3",
   "version": "3.7.0"
  }
 },
 "nbformat": 4,
 "nbformat_minor": 2
}
